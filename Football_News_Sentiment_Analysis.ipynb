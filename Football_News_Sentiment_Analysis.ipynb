{
  "metadata": {
    "kernelspec": {
      "language": "python",
      "display_name": "Python 3",
      "name": "python3"
    },
    "language_info": {
      "name": "python",
      "version": "3.7.12",
      "mimetype": "text/x-python",
      "codemirror_mode": {
        "name": "ipython",
        "version": 3
      },
      "pygments_lexer": "ipython3",
      "nbconvert_exporter": "python",
      "file_extension": ".py"
    },
    "colab": {
      "provenance": []
    }
  },
  "nbformat_minor": 0,
  "nbformat": 4,
  "cells": [
    {
      "cell_type": "markdown",
      "source": [
        "# Importing"
      ],
      "metadata": {
        "id": "O0AmZ4URWFky"
      }
    },
    {
      "cell_type": "code",
      "source": [
        "from google.colab import drive\n",
        "\n",
        "# Menghubungkan Google Drive ke Google Colab\n",
        "drive.mount('/content/drive')"
      ],
      "metadata": {
        "colab": {
          "base_uri": "https://localhost:8080/"
        },
        "id": "pLPKCwFPWLqH",
        "outputId": "ecbef67a-15b4-4b6d-c4ab-a6ca19612e60"
      },
      "execution_count": null,
      "outputs": [
        {
          "output_type": "stream",
          "name": "stdout",
          "text": [
            "Mounted at /content/drive\n"
          ]
        }
      ]
    },
    {
      "cell_type": "code",
      "source": [
        "import numpy as np # linear algebra\n",
        "import pandas as pd # data processing, CSV file I/O (e.g. pd.read_csv)"
      ],
      "metadata": {
        "execution": {
          "iopub.status.busy": "2023-05-15T07:42:03.998508Z",
          "iopub.execute_input": "2023-05-15T07:42:03.998973Z",
          "iopub.status.idle": "2023-05-15T07:42:04.061368Z",
          "shell.execute_reply.started": "2023-05-15T07:42:03.998926Z",
          "shell.execute_reply": "2023-05-15T07:42:04.059951Z"
        },
        "trusted": true,
        "id": "Mjrd7LBGWFk0"
      },
      "execution_count": null,
      "outputs": []
    },
    {
      "cell_type": "code",
      "source": [
        "df_real = pd.read_csv('/content/drive/MyDrive/rekdat_news/real.csv')\n",
        "df_fake = pd.read_csv('/content/drive/MyDrive/rekdat_news/fake.csv')"
      ],
      "metadata": {
        "execution": {
          "iopub.status.busy": "2023-05-15T07:42:04.064139Z",
          "iopub.execute_input": "2023-05-15T07:42:04.064639Z",
          "iopub.status.idle": "2023-05-15T07:42:04.279753Z",
          "shell.execute_reply.started": "2023-05-15T07:42:04.064584Z",
          "shell.execute_reply": "2023-05-15T07:42:04.278573Z"
        },
        "trusted": true,
        "id": "xJKCFz5JWFk4"
      },
      "execution_count": null,
      "outputs": []
    },
    {
      "cell_type": "code",
      "source": [
        "!pip install scikit-plot"
      ],
      "metadata": {
        "colab": {
          "base_uri": "https://localhost:8080/"
        },
        "id": "LK0pVFhjWrLH",
        "outputId": "0b9e82ec-97e0-4986-a143-52b7d3d529f5"
      },
      "execution_count": null,
      "outputs": [
        {
          "output_type": "stream",
          "name": "stdout",
          "text": [
            "Looking in indexes: https://pypi.org/simple, https://us-python.pkg.dev/colab-wheels/public/simple/\n",
            "Collecting scikit-plot\n",
            "  Downloading scikit_plot-0.3.7-py3-none-any.whl (33 kB)\n",
            "Requirement already satisfied: matplotlib>=1.4.0 in /usr/local/lib/python3.10/dist-packages (from scikit-plot) (3.7.1)\n",
            "Requirement already satisfied: scikit-learn>=0.18 in /usr/local/lib/python3.10/dist-packages (from scikit-plot) (1.2.2)\n",
            "Requirement already satisfied: scipy>=0.9 in /usr/local/lib/python3.10/dist-packages (from scikit-plot) (1.10.1)\n",
            "Requirement already satisfied: joblib>=0.10 in /usr/local/lib/python3.10/dist-packages (from scikit-plot) (1.2.0)\n",
            "Requirement already satisfied: contourpy>=1.0.1 in /usr/local/lib/python3.10/dist-packages (from matplotlib>=1.4.0->scikit-plot) (1.0.7)\n",
            "Requirement already satisfied: cycler>=0.10 in /usr/local/lib/python3.10/dist-packages (from matplotlib>=1.4.0->scikit-plot) (0.11.0)\n",
            "Requirement already satisfied: fonttools>=4.22.0 in /usr/local/lib/python3.10/dist-packages (from matplotlib>=1.4.0->scikit-plot) (4.39.3)\n",
            "Requirement already satisfied: kiwisolver>=1.0.1 in /usr/local/lib/python3.10/dist-packages (from matplotlib>=1.4.0->scikit-plot) (1.4.4)\n",
            "Requirement already satisfied: numpy>=1.20 in /usr/local/lib/python3.10/dist-packages (from matplotlib>=1.4.0->scikit-plot) (1.22.4)\n",
            "Requirement already satisfied: packaging>=20.0 in /usr/local/lib/python3.10/dist-packages (from matplotlib>=1.4.0->scikit-plot) (23.1)\n",
            "Requirement already satisfied: pillow>=6.2.0 in /usr/local/lib/python3.10/dist-packages (from matplotlib>=1.4.0->scikit-plot) (8.4.0)\n",
            "Requirement already satisfied: pyparsing>=2.3.1 in /usr/local/lib/python3.10/dist-packages (from matplotlib>=1.4.0->scikit-plot) (3.0.9)\n",
            "Requirement already satisfied: python-dateutil>=2.7 in /usr/local/lib/python3.10/dist-packages (from matplotlib>=1.4.0->scikit-plot) (2.8.2)\n",
            "Requirement already satisfied: threadpoolctl>=2.0.0 in /usr/local/lib/python3.10/dist-packages (from scikit-learn>=0.18->scikit-plot) (3.1.0)\n",
            "Requirement already satisfied: six>=1.5 in /usr/local/lib/python3.10/dist-packages (from python-dateutil>=2.7->matplotlib>=1.4.0->scikit-plot) (1.16.0)\n",
            "Installing collected packages: scikit-plot\n",
            "Successfully installed scikit-plot-0.3.7\n"
          ]
        }
      ]
    },
    {
      "cell_type": "code",
      "source": [
        "import matplotlib.pyplot as plt\n",
        "import seaborn as sns\n",
        "sns.set()\n",
        "\n",
        "import re\n",
        "import string\n",
        "from wordcloud import WordCloud\n",
        "from collections import Counter\n",
        "\n",
        "import warnings\n",
        "warnings.filterwarnings('ignore')\n",
        "\n",
        "from nltk import sent_tokenize, word_tokenize\n",
        "from nltk.corpus import stopwords\n",
        "from nltk.stem import PorterStemmer\n",
        "\n",
        "from sklearn.feature_extraction.text import TfidfVectorizer\n",
        "from sklearn.model_selection import train_test_split\n",
        "from sklearn.naive_bayes import MultinomialNB, BernoulliNB\n",
        "from sklearn.ensemble import RandomForestClassifier\n",
        "from sklearn import model_selection, svm\n",
        "\n",
        "from sklearn.metrics import accuracy_score, precision_score, recall_score, f1_score, confusion_matrix\n",
        "\n",
        "from scikitplot.metrics import plot_confusion_matrix, plot_roc"
      ],
      "metadata": {
        "execution": {
          "iopub.status.busy": "2023-05-15T08:09:41.714312Z",
          "iopub.execute_input": "2023-05-15T08:09:41.714753Z",
          "iopub.status.idle": "2023-05-15T08:09:41.731403Z",
          "shell.execute_reply.started": "2023-05-15T08:09:41.714713Z",
          "shell.execute_reply": "2023-05-15T08:09:41.730187Z"
        },
        "trusted": true,
        "id": "XkPyg9vNWFk5"
      },
      "execution_count": null,
      "outputs": []
    },
    {
      "cell_type": "markdown",
      "source": [
        "# Data Outline"
      ],
      "metadata": {
        "id": "WdBFuO1_WFk6"
      }
    },
    {
      "cell_type": "code",
      "source": [
        "df_real.info()"
      ],
      "metadata": {
        "execution": {
          "iopub.status.busy": "2023-05-15T07:42:20.042832Z",
          "iopub.execute_input": "2023-05-15T07:42:20.043654Z",
          "iopub.status.idle": "2023-05-15T07:42:20.082667Z",
          "shell.execute_reply.started": "2023-05-15T07:42:20.043608Z",
          "shell.execute_reply": "2023-05-15T07:42:20.081164Z"
        },
        "trusted": true,
        "colab": {
          "base_uri": "https://localhost:8080/"
        },
        "id": "_v2zJp59WFk7",
        "outputId": "e5c8bf7e-76da-4ba8-b9f4-8eb715506b6f"
      },
      "execution_count": null,
      "outputs": [
        {
          "output_type": "stream",
          "name": "stdout",
          "text": [
            "<class 'pandas.core.frame.DataFrame'>\n",
            "RangeIndex: 21869 entries, 0 to 21868\n",
            "Data columns (total 1 columns):\n",
            " #   Column  Non-Null Count  Dtype \n",
            "---  ------  --------------  ----- \n",
            " 0   tweet   21863 non-null  object\n",
            "dtypes: object(1)\n",
            "memory usage: 171.0+ KB\n"
          ]
        }
      ]
    },
    {
      "cell_type": "code",
      "source": [
        "df_fake.info()"
      ],
      "metadata": {
        "execution": {
          "iopub.status.busy": "2023-05-15T07:42:20.084518Z",
          "iopub.execute_input": "2023-05-15T07:42:20.085299Z",
          "iopub.status.idle": "2023-05-15T07:42:20.103115Z",
          "shell.execute_reply.started": "2023-05-15T07:42:20.085260Z",
          "shell.execute_reply": "2023-05-15T07:42:20.101583Z"
        },
        "trusted": true,
        "colab": {
          "base_uri": "https://localhost:8080/"
        },
        "id": "HaAAHuYfWFk8",
        "outputId": "0c24a23d-95a9-4e9b-d4f0-2da433e5115d"
      },
      "execution_count": null,
      "outputs": [
        {
          "output_type": "stream",
          "name": "stdout",
          "text": [
            "<class 'pandas.core.frame.DataFrame'>\n",
            "RangeIndex: 19999 entries, 0 to 19998\n",
            "Data columns (total 1 columns):\n",
            " #   Column  Non-Null Count  Dtype \n",
            "---  ------  --------------  ----- \n",
            " 0   tweet   19988 non-null  object\n",
            "dtypes: object(1)\n",
            "memory usage: 156.4+ KB\n"
          ]
        }
      ]
    },
    {
      "cell_type": "code",
      "source": [
        "df_real.head()"
      ],
      "metadata": {
        "execution": {
          "iopub.status.busy": "2023-05-15T07:42:20.105076Z",
          "iopub.execute_input": "2023-05-15T07:42:20.105427Z",
          "iopub.status.idle": "2023-05-15T07:42:20.135230Z",
          "shell.execute_reply.started": "2023-05-15T07:42:20.105393Z",
          "shell.execute_reply": "2023-05-15T07:42:20.133776Z"
        },
        "trusted": true,
        "colab": {
          "base_uri": "https://localhost:8080/",
          "height": 206
        },
        "id": "q2NalGxmWFk-",
        "outputId": "7c460b55-e145-4f02-a6a6-32a9ec836bdc"
      },
      "execution_count": null,
      "outputs": [
        {
          "output_type": "execute_result",
          "data": {
            "text/plain": [
              "                                               tweet\n",
              "0  sun downs technical director: al-ahly respecte...\n",
              "1  shawky gharib after the tie with enppi: our go...\n",
              "2  egyptian sports news today, wednesday 1/25/202...\n",
              "3  the main referees committee of the egyptian fo...\n",
              "4  haji bari, the striker of the future team, is ..."
            ],
            "text/html": [
              "\n",
              "  <div id=\"df-1b8f32e0-13f4-48b2-b3ce-b9be12c192e7\">\n",
              "    <div class=\"colab-df-container\">\n",
              "      <div>\n",
              "<style scoped>\n",
              "    .dataframe tbody tr th:only-of-type {\n",
              "        vertical-align: middle;\n",
              "    }\n",
              "\n",
              "    .dataframe tbody tr th {\n",
              "        vertical-align: top;\n",
              "    }\n",
              "\n",
              "    .dataframe thead th {\n",
              "        text-align: right;\n",
              "    }\n",
              "</style>\n",
              "<table border=\"1\" class=\"dataframe\">\n",
              "  <thead>\n",
              "    <tr style=\"text-align: right;\">\n",
              "      <th></th>\n",
              "      <th>tweet</th>\n",
              "    </tr>\n",
              "  </thead>\n",
              "  <tbody>\n",
              "    <tr>\n",
              "      <th>0</th>\n",
              "      <td>sun downs technical director: al-ahly respecte...</td>\n",
              "    </tr>\n",
              "    <tr>\n",
              "      <th>1</th>\n",
              "      <td>shawky gharib after the tie with enppi: our go...</td>\n",
              "    </tr>\n",
              "    <tr>\n",
              "      <th>2</th>\n",
              "      <td>egyptian sports news today, wednesday 1/25/202...</td>\n",
              "    </tr>\n",
              "    <tr>\n",
              "      <th>3</th>\n",
              "      <td>the main referees committee of the egyptian fo...</td>\n",
              "    </tr>\n",
              "    <tr>\n",
              "      <th>4</th>\n",
              "      <td>haji bari, the striker of the future team, is ...</td>\n",
              "    </tr>\n",
              "  </tbody>\n",
              "</table>\n",
              "</div>\n",
              "      <button class=\"colab-df-convert\" onclick=\"convertToInteractive('df-1b8f32e0-13f4-48b2-b3ce-b9be12c192e7')\"\n",
              "              title=\"Convert this dataframe to an interactive table.\"\n",
              "              style=\"display:none;\">\n",
              "        \n",
              "  <svg xmlns=\"http://www.w3.org/2000/svg\" height=\"24px\"viewBox=\"0 0 24 24\"\n",
              "       width=\"24px\">\n",
              "    <path d=\"M0 0h24v24H0V0z\" fill=\"none\"/>\n",
              "    <path d=\"M18.56 5.44l.94 2.06.94-2.06 2.06-.94-2.06-.94-.94-2.06-.94 2.06-2.06.94zm-11 1L8.5 8.5l.94-2.06 2.06-.94-2.06-.94L8.5 2.5l-.94 2.06-2.06.94zm10 10l.94 2.06.94-2.06 2.06-.94-2.06-.94-.94-2.06-.94 2.06-2.06.94z\"/><path d=\"M17.41 7.96l-1.37-1.37c-.4-.4-.92-.59-1.43-.59-.52 0-1.04.2-1.43.59L10.3 9.45l-7.72 7.72c-.78.78-.78 2.05 0 2.83L4 21.41c.39.39.9.59 1.41.59.51 0 1.02-.2 1.41-.59l7.78-7.78 2.81-2.81c.8-.78.8-2.07 0-2.86zM5.41 20L4 18.59l7.72-7.72 1.47 1.35L5.41 20z\"/>\n",
              "  </svg>\n",
              "      </button>\n",
              "      \n",
              "  <style>\n",
              "    .colab-df-container {\n",
              "      display:flex;\n",
              "      flex-wrap:wrap;\n",
              "      gap: 12px;\n",
              "    }\n",
              "\n",
              "    .colab-df-convert {\n",
              "      background-color: #E8F0FE;\n",
              "      border: none;\n",
              "      border-radius: 50%;\n",
              "      cursor: pointer;\n",
              "      display: none;\n",
              "      fill: #1967D2;\n",
              "      height: 32px;\n",
              "      padding: 0 0 0 0;\n",
              "      width: 32px;\n",
              "    }\n",
              "\n",
              "    .colab-df-convert:hover {\n",
              "      background-color: #E2EBFA;\n",
              "      box-shadow: 0px 1px 2px rgba(60, 64, 67, 0.3), 0px 1px 3px 1px rgba(60, 64, 67, 0.15);\n",
              "      fill: #174EA6;\n",
              "    }\n",
              "\n",
              "    [theme=dark] .colab-df-convert {\n",
              "      background-color: #3B4455;\n",
              "      fill: #D2E3FC;\n",
              "    }\n",
              "\n",
              "    [theme=dark] .colab-df-convert:hover {\n",
              "      background-color: #434B5C;\n",
              "      box-shadow: 0px 1px 3px 1px rgba(0, 0, 0, 0.15);\n",
              "      filter: drop-shadow(0px 1px 2px rgba(0, 0, 0, 0.3));\n",
              "      fill: #FFFFFF;\n",
              "    }\n",
              "  </style>\n",
              "\n",
              "      <script>\n",
              "        const buttonEl =\n",
              "          document.querySelector('#df-1b8f32e0-13f4-48b2-b3ce-b9be12c192e7 button.colab-df-convert');\n",
              "        buttonEl.style.display =\n",
              "          google.colab.kernel.accessAllowed ? 'block' : 'none';\n",
              "\n",
              "        async function convertToInteractive(key) {\n",
              "          const element = document.querySelector('#df-1b8f32e0-13f4-48b2-b3ce-b9be12c192e7');\n",
              "          const dataTable =\n",
              "            await google.colab.kernel.invokeFunction('convertToInteractive',\n",
              "                                                     [key], {});\n",
              "          if (!dataTable) return;\n",
              "\n",
              "          const docLinkHtml = 'Like what you see? Visit the ' +\n",
              "            '<a target=\"_blank\" href=https://colab.research.google.com/notebooks/data_table.ipynb>data table notebook</a>'\n",
              "            + ' to learn more about interactive tables.';\n",
              "          element.innerHTML = '';\n",
              "          dataTable['output_type'] = 'display_data';\n",
              "          await google.colab.output.renderOutput(dataTable, element);\n",
              "          const docLink = document.createElement('div');\n",
              "          docLink.innerHTML = docLinkHtml;\n",
              "          element.appendChild(docLink);\n",
              "        }\n",
              "      </script>\n",
              "    </div>\n",
              "  </div>\n",
              "  "
            ]
          },
          "metadata": {},
          "execution_count": 8
        }
      ]
    },
    {
      "cell_type": "code",
      "source": [
        "df_fake.head()"
      ],
      "metadata": {
        "execution": {
          "iopub.status.busy": "2023-05-15T07:42:20.136683Z",
          "iopub.execute_input": "2023-05-15T07:42:20.137229Z",
          "iopub.status.idle": "2023-05-15T07:42:20.148329Z",
          "shell.execute_reply.started": "2023-05-15T07:42:20.137176Z",
          "shell.execute_reply": "2023-05-15T07:42:20.146868Z"
        },
        "trusted": true,
        "colab": {
          "base_uri": "https://localhost:8080/",
          "height": 206
        },
        "id": "KaV8_kuZWFk_",
        "outputId": "a5f91c0f-d05f-47de-b472-4a8ee2c00883"
      },
      "execution_count": null,
      "outputs": [
        {
          "output_type": "execute_result",
          "data": {
            "text/plain": [
              "                                               tweet\n",
              "0  the tongue of his condition, now i saw things ...\n",
              "1  by god the great, after i saw the derby of wyd...\n",
              "2  believe in god, this zamalek fans are as good ...\n",
              "3  the coach appeared in the media and told the t...\n",
              "4  asno smito\\nwhoever knows her tells me a massa..."
            ],
            "text/html": [
              "\n",
              "  <div id=\"df-f13cee20-98f7-4603-96a0-13c291b0e167\">\n",
              "    <div class=\"colab-df-container\">\n",
              "      <div>\n",
              "<style scoped>\n",
              "    .dataframe tbody tr th:only-of-type {\n",
              "        vertical-align: middle;\n",
              "    }\n",
              "\n",
              "    .dataframe tbody tr th {\n",
              "        vertical-align: top;\n",
              "    }\n",
              "\n",
              "    .dataframe thead th {\n",
              "        text-align: right;\n",
              "    }\n",
              "</style>\n",
              "<table border=\"1\" class=\"dataframe\">\n",
              "  <thead>\n",
              "    <tr style=\"text-align: right;\">\n",
              "      <th></th>\n",
              "      <th>tweet</th>\n",
              "    </tr>\n",
              "  </thead>\n",
              "  <tbody>\n",
              "    <tr>\n",
              "      <th>0</th>\n",
              "      <td>the tongue of his condition, now i saw things ...</td>\n",
              "    </tr>\n",
              "    <tr>\n",
              "      <th>1</th>\n",
              "      <td>by god the great, after i saw the derby of wyd...</td>\n",
              "    </tr>\n",
              "    <tr>\n",
              "      <th>2</th>\n",
              "      <td>believe in god, this zamalek fans are as good ...</td>\n",
              "    </tr>\n",
              "    <tr>\n",
              "      <th>3</th>\n",
              "      <td>the coach appeared in the media and told the t...</td>\n",
              "    </tr>\n",
              "    <tr>\n",
              "      <th>4</th>\n",
              "      <td>asno smito\\nwhoever knows her tells me a massa...</td>\n",
              "    </tr>\n",
              "  </tbody>\n",
              "</table>\n",
              "</div>\n",
              "      <button class=\"colab-df-convert\" onclick=\"convertToInteractive('df-f13cee20-98f7-4603-96a0-13c291b0e167')\"\n",
              "              title=\"Convert this dataframe to an interactive table.\"\n",
              "              style=\"display:none;\">\n",
              "        \n",
              "  <svg xmlns=\"http://www.w3.org/2000/svg\" height=\"24px\"viewBox=\"0 0 24 24\"\n",
              "       width=\"24px\">\n",
              "    <path d=\"M0 0h24v24H0V0z\" fill=\"none\"/>\n",
              "    <path d=\"M18.56 5.44l.94 2.06.94-2.06 2.06-.94-2.06-.94-.94-2.06-.94 2.06-2.06.94zm-11 1L8.5 8.5l.94-2.06 2.06-.94-2.06-.94L8.5 2.5l-.94 2.06-2.06.94zm10 10l.94 2.06.94-2.06 2.06-.94-2.06-.94-.94-2.06-.94 2.06-2.06.94z\"/><path d=\"M17.41 7.96l-1.37-1.37c-.4-.4-.92-.59-1.43-.59-.52 0-1.04.2-1.43.59L10.3 9.45l-7.72 7.72c-.78.78-.78 2.05 0 2.83L4 21.41c.39.39.9.59 1.41.59.51 0 1.02-.2 1.41-.59l7.78-7.78 2.81-2.81c.8-.78.8-2.07 0-2.86zM5.41 20L4 18.59l7.72-7.72 1.47 1.35L5.41 20z\"/>\n",
              "  </svg>\n",
              "      </button>\n",
              "      \n",
              "  <style>\n",
              "    .colab-df-container {\n",
              "      display:flex;\n",
              "      flex-wrap:wrap;\n",
              "      gap: 12px;\n",
              "    }\n",
              "\n",
              "    .colab-df-convert {\n",
              "      background-color: #E8F0FE;\n",
              "      border: none;\n",
              "      border-radius: 50%;\n",
              "      cursor: pointer;\n",
              "      display: none;\n",
              "      fill: #1967D2;\n",
              "      height: 32px;\n",
              "      padding: 0 0 0 0;\n",
              "      width: 32px;\n",
              "    }\n",
              "\n",
              "    .colab-df-convert:hover {\n",
              "      background-color: #E2EBFA;\n",
              "      box-shadow: 0px 1px 2px rgba(60, 64, 67, 0.3), 0px 1px 3px 1px rgba(60, 64, 67, 0.15);\n",
              "      fill: #174EA6;\n",
              "    }\n",
              "\n",
              "    [theme=dark] .colab-df-convert {\n",
              "      background-color: #3B4455;\n",
              "      fill: #D2E3FC;\n",
              "    }\n",
              "\n",
              "    [theme=dark] .colab-df-convert:hover {\n",
              "      background-color: #434B5C;\n",
              "      box-shadow: 0px 1px 3px 1px rgba(0, 0, 0, 0.15);\n",
              "      filter: drop-shadow(0px 1px 2px rgba(0, 0, 0, 0.3));\n",
              "      fill: #FFFFFF;\n",
              "    }\n",
              "  </style>\n",
              "\n",
              "      <script>\n",
              "        const buttonEl =\n",
              "          document.querySelector('#df-f13cee20-98f7-4603-96a0-13c291b0e167 button.colab-df-convert');\n",
              "        buttonEl.style.display =\n",
              "          google.colab.kernel.accessAllowed ? 'block' : 'none';\n",
              "\n",
              "        async function convertToInteractive(key) {\n",
              "          const element = document.querySelector('#df-f13cee20-98f7-4603-96a0-13c291b0e167');\n",
              "          const dataTable =\n",
              "            await google.colab.kernel.invokeFunction('convertToInteractive',\n",
              "                                                     [key], {});\n",
              "          if (!dataTable) return;\n",
              "\n",
              "          const docLinkHtml = 'Like what you see? Visit the ' +\n",
              "            '<a target=\"_blank\" href=https://colab.research.google.com/notebooks/data_table.ipynb>data table notebook</a>'\n",
              "            + ' to learn more about interactive tables.';\n",
              "          element.innerHTML = '';\n",
              "          dataTable['output_type'] = 'display_data';\n",
              "          await google.colab.output.renderOutput(dataTable, element);\n",
              "          const docLink = document.createElement('div');\n",
              "          docLink.innerHTML = docLinkHtml;\n",
              "          element.appendChild(docLink);\n",
              "        }\n",
              "      </script>\n",
              "    </div>\n",
              "  </div>\n",
              "  "
            ]
          },
          "metadata": {},
          "execution_count": 9
        }
      ]
    },
    {
      "cell_type": "markdown",
      "source": [
        "# Labeling, Data Merge and Creating New Columns"
      ],
      "metadata": {
        "id": "IpMGvDkkWFlA"
      }
    },
    {
      "cell_type": "markdown",
      "source": [
        "**1) Labeling 'real' = '0'**"
      ],
      "metadata": {
        "id": "JYJME48jWFlB"
      }
    },
    {
      "cell_type": "code",
      "source": [
        "df_real['label']=0"
      ],
      "metadata": {
        "execution": {
          "iopub.status.busy": "2023-05-15T07:42:20.150564Z",
          "iopub.execute_input": "2023-05-15T07:42:20.151131Z",
          "iopub.status.idle": "2023-05-15T07:42:20.161676Z",
          "shell.execute_reply.started": "2023-05-15T07:42:20.151077Z",
          "shell.execute_reply": "2023-05-15T07:42:20.160473Z"
        },
        "trusted": true,
        "id": "6rEhqkqLWFlC"
      },
      "execution_count": null,
      "outputs": []
    },
    {
      "cell_type": "code",
      "source": [
        "df_real.info()"
      ],
      "metadata": {
        "execution": {
          "iopub.status.busy": "2023-05-15T07:42:20.163459Z",
          "iopub.execute_input": "2023-05-15T07:42:20.163909Z",
          "iopub.status.idle": "2023-05-15T07:42:20.188765Z",
          "shell.execute_reply.started": "2023-05-15T07:42:20.163833Z",
          "shell.execute_reply": "2023-05-15T07:42:20.187415Z"
        },
        "trusted": true,
        "colab": {
          "base_uri": "https://localhost:8080/"
        },
        "id": "JoDY3-TGWFlD",
        "outputId": "87c348d8-27aa-4896-b900-59307f1b4a8a"
      },
      "execution_count": null,
      "outputs": [
        {
          "output_type": "stream",
          "name": "stdout",
          "text": [
            "<class 'pandas.core.frame.DataFrame'>\n",
            "RangeIndex: 21869 entries, 0 to 21868\n",
            "Data columns (total 2 columns):\n",
            " #   Column  Non-Null Count  Dtype \n",
            "---  ------  --------------  ----- \n",
            " 0   tweet   21863 non-null  object\n",
            " 1   label   21869 non-null  int64 \n",
            "dtypes: int64(1), object(1)\n",
            "memory usage: 341.8+ KB\n"
          ]
        }
      ]
    },
    {
      "cell_type": "markdown",
      "source": [
        "**2) Labeling 'fake' = '1'**"
      ],
      "metadata": {
        "id": "m6SCcBmGWFlE"
      }
    },
    {
      "cell_type": "code",
      "source": [
        "df_fake['label']=1"
      ],
      "metadata": {
        "execution": {
          "iopub.status.busy": "2023-05-15T07:42:20.193340Z",
          "iopub.execute_input": "2023-05-15T07:42:20.193945Z",
          "iopub.status.idle": "2023-05-15T07:42:20.202978Z",
          "shell.execute_reply.started": "2023-05-15T07:42:20.193862Z",
          "shell.execute_reply": "2023-05-15T07:42:20.201651Z"
        },
        "trusted": true,
        "id": "yDps_Zy7WFlE"
      },
      "execution_count": null,
      "outputs": []
    },
    {
      "cell_type": "markdown",
      "source": [
        "**3) Merge two datas**"
      ],
      "metadata": {
        "id": "Pbexe0zJWFlF"
      }
    },
    {
      "cell_type": "code",
      "source": [
        "df=pd.concat([df_real,df_fake],ignore_index=True)"
      ],
      "metadata": {
        "execution": {
          "iopub.status.busy": "2023-05-15T07:42:20.206475Z",
          "iopub.execute_input": "2023-05-15T07:42:20.206921Z",
          "iopub.status.idle": "2023-05-15T07:42:20.220700Z",
          "shell.execute_reply.started": "2023-05-15T07:42:20.206868Z",
          "shell.execute_reply": "2023-05-15T07:42:20.219209Z"
        },
        "trusted": true,
        "id": "Uu_V1b_7WFlG"
      },
      "execution_count": null,
      "outputs": []
    },
    {
      "cell_type": "code",
      "source": [
        "df.info()"
      ],
      "metadata": {
        "execution": {
          "iopub.status.busy": "2023-05-15T07:42:20.222335Z",
          "iopub.execute_input": "2023-05-15T07:42:20.222948Z",
          "iopub.status.idle": "2023-05-15T07:42:20.252197Z",
          "shell.execute_reply.started": "2023-05-15T07:42:20.222893Z",
          "shell.execute_reply": "2023-05-15T07:42:20.250757Z"
        },
        "trusted": true,
        "colab": {
          "base_uri": "https://localhost:8080/"
        },
        "id": "3Da1DA8ZWFlH",
        "outputId": "99b83d0d-98b6-484b-af4d-5cd609664c1e"
      },
      "execution_count": null,
      "outputs": [
        {
          "output_type": "stream",
          "name": "stdout",
          "text": [
            "<class 'pandas.core.frame.DataFrame'>\n",
            "RangeIndex: 41868 entries, 0 to 41867\n",
            "Data columns (total 2 columns):\n",
            " #   Column  Non-Null Count  Dtype \n",
            "---  ------  --------------  ----- \n",
            " 0   tweet   41851 non-null  object\n",
            " 1   label   41868 non-null  int64 \n",
            "dtypes: int64(1), object(1)\n",
            "memory usage: 654.3+ KB\n"
          ]
        }
      ]
    },
    {
      "cell_type": "code",
      "source": [
        "df.head()"
      ],
      "metadata": {
        "colab": {
          "base_uri": "https://localhost:8080/",
          "height": 206
        },
        "id": "-Q4ISuglg2Tm",
        "outputId": "ca879bc0-7428-43d7-9257-3a7c5dee3749"
      },
      "execution_count": null,
      "outputs": [
        {
          "output_type": "execute_result",
          "data": {
            "text/plain": [
              "                                               tweet  label\n",
              "0  sun downs technical director: al-ahly respecte...      0\n",
              "1  shawky gharib after the tie with enppi: our go...      0\n",
              "2  egyptian sports news today, wednesday 1/25/202...      0\n",
              "3  the main referees committee of the egyptian fo...      0\n",
              "4  haji bari, the striker of the future team, is ...      0"
            ],
            "text/html": [
              "\n",
              "  <div id=\"df-f0653fcb-003d-4d22-bfcf-f9c8bca96bd0\">\n",
              "    <div class=\"colab-df-container\">\n",
              "      <div>\n",
              "<style scoped>\n",
              "    .dataframe tbody tr th:only-of-type {\n",
              "        vertical-align: middle;\n",
              "    }\n",
              "\n",
              "    .dataframe tbody tr th {\n",
              "        vertical-align: top;\n",
              "    }\n",
              "\n",
              "    .dataframe thead th {\n",
              "        text-align: right;\n",
              "    }\n",
              "</style>\n",
              "<table border=\"1\" class=\"dataframe\">\n",
              "  <thead>\n",
              "    <tr style=\"text-align: right;\">\n",
              "      <th></th>\n",
              "      <th>tweet</th>\n",
              "      <th>label</th>\n",
              "    </tr>\n",
              "  </thead>\n",
              "  <tbody>\n",
              "    <tr>\n",
              "      <th>0</th>\n",
              "      <td>sun downs technical director: al-ahly respecte...</td>\n",
              "      <td>0</td>\n",
              "    </tr>\n",
              "    <tr>\n",
              "      <th>1</th>\n",
              "      <td>shawky gharib after the tie with enppi: our go...</td>\n",
              "      <td>0</td>\n",
              "    </tr>\n",
              "    <tr>\n",
              "      <th>2</th>\n",
              "      <td>egyptian sports news today, wednesday 1/25/202...</td>\n",
              "      <td>0</td>\n",
              "    </tr>\n",
              "    <tr>\n",
              "      <th>3</th>\n",
              "      <td>the main referees committee of the egyptian fo...</td>\n",
              "      <td>0</td>\n",
              "    </tr>\n",
              "    <tr>\n",
              "      <th>4</th>\n",
              "      <td>haji bari, the striker of the future team, is ...</td>\n",
              "      <td>0</td>\n",
              "    </tr>\n",
              "  </tbody>\n",
              "</table>\n",
              "</div>\n",
              "      <button class=\"colab-df-convert\" onclick=\"convertToInteractive('df-f0653fcb-003d-4d22-bfcf-f9c8bca96bd0')\"\n",
              "              title=\"Convert this dataframe to an interactive table.\"\n",
              "              style=\"display:none;\">\n",
              "        \n",
              "  <svg xmlns=\"http://www.w3.org/2000/svg\" height=\"24px\"viewBox=\"0 0 24 24\"\n",
              "       width=\"24px\">\n",
              "    <path d=\"M0 0h24v24H0V0z\" fill=\"none\"/>\n",
              "    <path d=\"M18.56 5.44l.94 2.06.94-2.06 2.06-.94-2.06-.94-.94-2.06-.94 2.06-2.06.94zm-11 1L8.5 8.5l.94-2.06 2.06-.94-2.06-.94L8.5 2.5l-.94 2.06-2.06.94zm10 10l.94 2.06.94-2.06 2.06-.94-2.06-.94-.94-2.06-.94 2.06-2.06.94z\"/><path d=\"M17.41 7.96l-1.37-1.37c-.4-.4-.92-.59-1.43-.59-.52 0-1.04.2-1.43.59L10.3 9.45l-7.72 7.72c-.78.78-.78 2.05 0 2.83L4 21.41c.39.39.9.59 1.41.59.51 0 1.02-.2 1.41-.59l7.78-7.78 2.81-2.81c.8-.78.8-2.07 0-2.86zM5.41 20L4 18.59l7.72-7.72 1.47 1.35L5.41 20z\"/>\n",
              "  </svg>\n",
              "      </button>\n",
              "      \n",
              "  <style>\n",
              "    .colab-df-container {\n",
              "      display:flex;\n",
              "      flex-wrap:wrap;\n",
              "      gap: 12px;\n",
              "    }\n",
              "\n",
              "    .colab-df-convert {\n",
              "      background-color: #E8F0FE;\n",
              "      border: none;\n",
              "      border-radius: 50%;\n",
              "      cursor: pointer;\n",
              "      display: none;\n",
              "      fill: #1967D2;\n",
              "      height: 32px;\n",
              "      padding: 0 0 0 0;\n",
              "      width: 32px;\n",
              "    }\n",
              "\n",
              "    .colab-df-convert:hover {\n",
              "      background-color: #E2EBFA;\n",
              "      box-shadow: 0px 1px 2px rgba(60, 64, 67, 0.3), 0px 1px 3px 1px rgba(60, 64, 67, 0.15);\n",
              "      fill: #174EA6;\n",
              "    }\n",
              "\n",
              "    [theme=dark] .colab-df-convert {\n",
              "      background-color: #3B4455;\n",
              "      fill: #D2E3FC;\n",
              "    }\n",
              "\n",
              "    [theme=dark] .colab-df-convert:hover {\n",
              "      background-color: #434B5C;\n",
              "      box-shadow: 0px 1px 3px 1px rgba(0, 0, 0, 0.15);\n",
              "      filter: drop-shadow(0px 1px 2px rgba(0, 0, 0, 0.3));\n",
              "      fill: #FFFFFF;\n",
              "    }\n",
              "  </style>\n",
              "\n",
              "      <script>\n",
              "        const buttonEl =\n",
              "          document.querySelector('#df-f0653fcb-003d-4d22-bfcf-f9c8bca96bd0 button.colab-df-convert');\n",
              "        buttonEl.style.display =\n",
              "          google.colab.kernel.accessAllowed ? 'block' : 'none';\n",
              "\n",
              "        async function convertToInteractive(key) {\n",
              "          const element = document.querySelector('#df-f0653fcb-003d-4d22-bfcf-f9c8bca96bd0');\n",
              "          const dataTable =\n",
              "            await google.colab.kernel.invokeFunction('convertToInteractive',\n",
              "                                                     [key], {});\n",
              "          if (!dataTable) return;\n",
              "\n",
              "          const docLinkHtml = 'Like what you see? Visit the ' +\n",
              "            '<a target=\"_blank\" href=https://colab.research.google.com/notebooks/data_table.ipynb>data table notebook</a>'\n",
              "            + ' to learn more about interactive tables.';\n",
              "          element.innerHTML = '';\n",
              "          dataTable['output_type'] = 'display_data';\n",
              "          await google.colab.output.renderOutput(dataTable, element);\n",
              "          const docLink = document.createElement('div');\n",
              "          docLink.innerHTML = docLinkHtml;\n",
              "          element.appendChild(docLink);\n",
              "        }\n",
              "      </script>\n",
              "    </div>\n",
              "  </div>\n",
              "  "
            ]
          },
          "metadata": {},
          "execution_count": 15
        }
      ]
    },
    {
      "cell_type": "markdown",
      "source": [
        "**4) Drop NaN**"
      ],
      "metadata": {
        "id": "oOxV9RxxWFlI"
      }
    },
    {
      "cell_type": "code",
      "source": [
        "df=df.dropna()"
      ],
      "metadata": {
        "execution": {
          "iopub.status.busy": "2023-05-15T07:42:20.253404Z",
          "iopub.execute_input": "2023-05-15T07:42:20.253749Z",
          "iopub.status.idle": "2023-05-15T07:42:20.275497Z",
          "shell.execute_reply.started": "2023-05-15T07:42:20.253715Z",
          "shell.execute_reply": "2023-05-15T07:42:20.273639Z"
        },
        "trusted": true,
        "id": "iiKahXpyWFlI"
      },
      "execution_count": null,
      "outputs": []
    },
    {
      "cell_type": "code",
      "source": [
        "df.info()"
      ],
      "metadata": {
        "execution": {
          "iopub.status.busy": "2023-05-15T07:42:20.277167Z",
          "iopub.execute_input": "2023-05-15T07:42:20.277692Z",
          "iopub.status.idle": "2023-05-15T07:42:20.297829Z",
          "shell.execute_reply.started": "2023-05-15T07:42:20.277639Z",
          "shell.execute_reply": "2023-05-15T07:42:20.296795Z"
        },
        "trusted": true,
        "colab": {
          "base_uri": "https://localhost:8080/"
        },
        "id": "rUmG7epLWFlJ",
        "outputId": "4c9d8c2c-0734-405d-bedb-a1624270a66d"
      },
      "execution_count": null,
      "outputs": [
        {
          "output_type": "stream",
          "name": "stdout",
          "text": [
            "<class 'pandas.core.frame.DataFrame'>\n",
            "Int64Index: 41851 entries, 0 to 41867\n",
            "Data columns (total 2 columns):\n",
            " #   Column  Non-Null Count  Dtype \n",
            "---  ------  --------------  ----- \n",
            " 0   tweet   41851 non-null  object\n",
            " 1   label   41851 non-null  int64 \n",
            "dtypes: int64(1), object(1)\n",
            "memory usage: 980.9+ KB\n"
          ]
        }
      ]
    },
    {
      "cell_type": "markdown",
      "source": [
        "**5) The number by labels**"
      ],
      "metadata": {
        "id": "Pxm-qICoWFlK"
      }
    },
    {
      "cell_type": "code",
      "source": [
        "df['label'].value_counts()"
      ],
      "metadata": {
        "execution": {
          "iopub.status.busy": "2023-05-15T07:42:20.299202Z",
          "iopub.execute_input": "2023-05-15T07:42:20.299923Z",
          "iopub.status.idle": "2023-05-15T07:42:20.311920Z",
          "shell.execute_reply.started": "2023-05-15T07:42:20.299875Z",
          "shell.execute_reply": "2023-05-15T07:42:20.310451Z"
        },
        "trusted": true,
        "colab": {
          "base_uri": "https://localhost:8080/"
        },
        "id": "0peTC7t-WFlL",
        "outputId": "e72742a6-3eca-4fe9-c64f-b6dcd187de67"
      },
      "execution_count": null,
      "outputs": [
        {
          "output_type": "execute_result",
          "data": {
            "text/plain": [
              "0    21863\n",
              "1    19988\n",
              "Name: label, dtype: int64"
            ]
          },
          "metadata": {},
          "execution_count": 18
        }
      ]
    },
    {
      "cell_type": "markdown",
      "source": [
        "**6) Pie and bar plot by 'real' and 'fake'**"
      ],
      "metadata": {
        "id": "6Fh9eM0lWFlM"
      }
    },
    {
      "cell_type": "code",
      "source": [
        "labels = ['Real', 'Fake']\n",
        "sizes = [21863, 19988]\n",
        "custom_colours = ['#ff7675', '#74b9ff']\n",
        "\n",
        "plt.figure(figsize=(8, 3))\n",
        "plt.subplot(1, 2, 1)\n",
        "plt.pie(sizes, labels = labels, textprops={'fontsize': 8}, startangle=140,\n",
        "       autopct='%1.0f%%', colors=custom_colours, explode=[0, 0.05])\n",
        "\n",
        "plt.subplot(1, 2, 2)\n",
        "ax=sns.barplot(x = df['label'].unique(), y = df['label'].value_counts(), palette= 'viridis')\n",
        "ax.set_xticklabels(labels)\n",
        "\n",
        "plt.show()"
      ],
      "metadata": {
        "execution": {
          "iopub.status.busy": "2023-05-15T07:42:20.313714Z",
          "iopub.execute_input": "2023-05-15T07:42:20.314567Z",
          "iopub.status.idle": "2023-05-15T07:42:20.639115Z",
          "shell.execute_reply.started": "2023-05-15T07:42:20.314477Z",
          "shell.execute_reply": "2023-05-15T07:42:20.637679Z"
        },
        "trusted": true,
        "colab": {
          "base_uri": "https://localhost:8080/",
          "height": 296
        },
        "id": "dBccgfSwWFlN",
        "outputId": "c7399b0f-c9c6-452d-ab3b-ec11d412ad33"
      },
      "execution_count": null,
      "outputs": [
        {
          "output_type": "display_data",
          "data": {
            "text/plain": [
              "<Figure size 800x300 with 2 Axes>"
            ],
            "image/png": "[encoded data removed]"
          },
          "metadata": {}
        }
      ]
    },
    {
      "cell_type": "markdown",
      "source": [
        "**7) Creating new columns 'Total Words' and 'Total Chars'**"
      ],
      "metadata": {
        "id": "D7n8B9JQWFlP"
      }
    },
    {
      "cell_type": "code",
      "source": [
        "\n",
        "df['total words'] = df['tweet'].apply(lambda x: len(x.split()))\n",
        "\n",
        "def count_total_words(text):\n",
        "    char = 0\n",
        "    for word in text.split():\n",
        "        char += len(word)\n",
        "    return char\n",
        "\n",
        "df['total chars'] = df[\"tweet\"].apply(count_total_words)"
      ],
      "metadata": {
        "execution": {
          "iopub.status.busy": "2023-05-15T07:42:20.641131Z",
          "iopub.execute_input": "2023-05-15T07:42:20.641643Z",
          "iopub.status.idle": "2023-05-15T07:42:21.090396Z",
          "shell.execute_reply.started": "2023-05-15T07:42:20.641588Z",
          "shell.execute_reply": "2023-05-15T07:42:21.088722Z"
        },
        "trusted": true,
        "id": "ggPBME04WFlP"
      },
      "execution_count": null,
      "outputs": []
    },
    {
      "cell_type": "markdown",
      "source": [
        "# Text preprocessing"
      ],
      "metadata": {
        "id": "AkaAcNK9WFlS"
      }
    },
    {
      "cell_type": "code",
      "source": [
        "import nltk\n",
        "nltk.download('punkt')"
      ],
      "metadata": {
        "colab": {
          "base_uri": "https://localhost:8080/"
        },
        "id": "z69M2f7gOZgU",
        "outputId": "cb920764-fccd-4722-fb41-00d6b1505bb5"
      },
      "execution_count": null,
      "outputs": [
        {
          "output_type": "stream",
          "name": "stderr",
          "text": [
            "[nltk_data] Downloading package punkt to /root/nltk_data...\n",
            "[nltk_data]   Unzipping tokenizers/punkt.zip.\n"
          ]
        },
        {
          "output_type": "execute_result",
          "data": {
            "text/plain": [
              "True"
            ]
          },
          "metadata": {},
          "execution_count": 21
        }
      ]
    },
    {
      "cell_type": "markdown",
      "source": [
        "**1) Lowercasing**"
      ],
      "metadata": {
        "id": "0AQ5Z7FGWFlT"
      }
    },
    {
      "cell_type": "code",
      "source": [
        "def convert_lowercase(text):\n",
        "    text = text.lower()\n",
        "    return text\n",
        "\n",
        "df['tweet'] = df['tweet'].apply(convert_lowercase)"
      ],
      "metadata": {
        "execution": {
          "iopub.status.busy": "2023-05-15T07:42:22.514043Z",
          "iopub.execute_input": "2023-05-15T07:42:22.514548Z",
          "iopub.status.idle": "2023-05-15T07:42:22.558716Z",
          "shell.execute_reply.started": "2023-05-15T07:42:22.514476Z",
          "shell.execute_reply": "2023-05-15T07:42:22.557214Z"
        },
        "trusted": true,
        "id": "MM4aEuKWWFlT"
      },
      "execution_count": null,
      "outputs": []
    },
    {
      "cell_type": "code",
      "source": [
        "df.head()"
      ],
      "metadata": {
        "colab": {
          "base_uri": "https://localhost:8080/",
          "height": 206
        },
        "id": "HOq07tBZqekY",
        "outputId": "96af0a42-dc42-4606-8661-0d92ebe92898"
      },
      "execution_count": null,
      "outputs": [
        {
          "output_type": "execute_result",
          "data": {
            "text/plain": [
              "                                               tweet  label  total words  \\\n",
              "0  sun downs technical director: al-ahly respecte...      0           11   \n",
              "1  shawky gharib after the tie with enppi: our go...      0           16   \n",
              "2  egyptian sports news today, wednesday 1/25/202...      0           25   \n",
              "3  the main referees committee of the egyptian fo...      0           36   \n",
              "4  haji bari, the striker of the future team, is ...      0           39   \n",
              "\n",
              "   total chars  \n",
              "0           58  \n",
              "1           67  \n",
              "2          149  \n",
              "3          187  \n",
              "4          196  "
            ],
            "text/html": [
              "\n",
              "  <div id=\"df-ddd013a6-660b-4a35-92dd-f8feb7ed764c\">\n",
              "    <div class=\"colab-df-container\">\n",
              "      <div>\n",
              "<style scoped>\n",
              "    .dataframe tbody tr th:only-of-type {\n",
              "        vertical-align: middle;\n",
              "    }\n",
              "\n",
              "    .dataframe tbody tr th {\n",
              "        vertical-align: top;\n",
              "    }\n",
              "\n",
              "    .dataframe thead th {\n",
              "        text-align: right;\n",
              "    }\n",
              "</style>\n",
              "<table border=\"1\" class=\"dataframe\">\n",
              "  <thead>\n",
              "    <tr style=\"text-align: right;\">\n",
              "      <th></th>\n",
              "      <th>tweet</th>\n",
              "      <th>label</th>\n",
              "      <th>total words</th>\n",
              "      <th>total chars</th>\n",
              "    </tr>\n",
              "  </thead>\n",
              "  <tbody>\n",
              "    <tr>\n",
              "      <th>0</th>\n",
              "      <td>sun downs technical director: al-ahly respecte...</td>\n",
              "      <td>0</td>\n",
              "      <td>11</td>\n",
              "      <td>58</td>\n",
              "    </tr>\n",
              "    <tr>\n",
              "      <th>1</th>\n",
              "      <td>shawky gharib after the tie with enppi: our go...</td>\n",
              "      <td>0</td>\n",
              "      <td>16</td>\n",
              "      <td>67</td>\n",
              "    </tr>\n",
              "    <tr>\n",
              "      <th>2</th>\n",
              "      <td>egyptian sports news today, wednesday 1/25/202...</td>\n",
              "      <td>0</td>\n",
              "      <td>25</td>\n",
              "      <td>149</td>\n",
              "    </tr>\n",
              "    <tr>\n",
              "      <th>3</th>\n",
              "      <td>the main referees committee of the egyptian fo...</td>\n",
              "      <td>0</td>\n",
              "      <td>36</td>\n",
              "      <td>187</td>\n",
              "    </tr>\n",
              "    <tr>\n",
              "      <th>4</th>\n",
              "      <td>haji bari, the striker of the future team, is ...</td>\n",
              "      <td>0</td>\n",
              "      <td>39</td>\n",
              "      <td>196</td>\n",
              "    </tr>\n",
              "  </tbody>\n",
              "</table>\n",
              "</div>\n",
              "      <button class=\"colab-df-convert\" onclick=\"convertToInteractive('df-ddd013a6-660b-4a35-92dd-f8feb7ed764c')\"\n",
              "              title=\"Convert this dataframe to an interactive table.\"\n",
              "              style=\"display:none;\">\n",
              "        \n",
              "  <svg xmlns=\"http://www.w3.org/2000/svg\" height=\"24px\"viewBox=\"0 0 24 24\"\n",
              "       width=\"24px\">\n",
              "    <path d=\"M0 0h24v24H0V0z\" fill=\"none\"/>\n",
              "    <path d=\"M18.56 5.44l.94 2.06.94-2.06 2.06-.94-2.06-.94-.94-2.06-.94 2.06-2.06.94zm-11 1L8.5 8.5l.94-2.06 2.06-.94-2.06-.94L8.5 2.5l-.94 2.06-2.06.94zm10 10l.94 2.06.94-2.06 2.06-.94-2.06-.94-.94-2.06-.94 2.06-2.06.94z\"/><path d=\"M17.41 7.96l-1.37-1.37c-.4-.4-.92-.59-1.43-.59-.52 0-1.04.2-1.43.59L10.3 9.45l-7.72 7.72c-.78.78-.78 2.05 0 2.83L4 21.41c.39.39.9.59 1.41.59.51 0 1.02-.2 1.41-.59l7.78-7.78 2.81-2.81c.8-.78.8-2.07 0-2.86zM5.41 20L4 18.59l7.72-7.72 1.47 1.35L5.41 20z\"/>\n",
              "  </svg>\n",
              "      </button>\n",
              "      \n",
              "  <style>\n",
              "    .colab-df-container {\n",
              "      display:flex;\n",
              "      flex-wrap:wrap;\n",
              "      gap: 12px;\n",
              "    }\n",
              "\n",
              "    .colab-df-convert {\n",
              "      background-color: #E8F0FE;\n",
              "      border: none;\n",
              "      border-radius: 50%;\n",
              "      cursor: pointer;\n",
              "      display: none;\n",
              "      fill: #1967D2;\n",
              "      height: 32px;\n",
              "      padding: 0 0 0 0;\n",
              "      width: 32px;\n",
              "    }\n",
              "\n",
              "    .colab-df-convert:hover {\n",
              "      background-color: #E2EBFA;\n",
              "      box-shadow: 0px 1px 2px rgba(60, 64, 67, 0.3), 0px 1px 3px 1px rgba(60, 64, 67, 0.15);\n",
              "      fill: #174EA6;\n",
              "    }\n",
              "\n",
              "    [theme=dark] .colab-df-convert {\n",
              "      background-color: #3B4455;\n",
              "      fill: #D2E3FC;\n",
              "    }\n",
              "\n",
              "    [theme=dark] .colab-df-convert:hover {\n",
              "      background-color: #434B5C;\n",
              "      box-shadow: 0px 1px 3px 1px rgba(0, 0, 0, 0.15);\n",
              "      filter: drop-shadow(0px 1px 2px rgba(0, 0, 0, 0.3));\n",
              "      fill: #FFFFFF;\n",
              "    }\n",
              "  </style>\n",
              "\n",
              "      <script>\n",
              "        const buttonEl =\n",
              "          document.querySelector('#df-ddd013a6-660b-4a35-92dd-f8feb7ed764c button.colab-df-convert');\n",
              "        buttonEl.style.display =\n",
              "          google.colab.kernel.accessAllowed ? 'block' : 'none';\n",
              "\n",
              "        async function convertToInteractive(key) {\n",
              "          const element = document.querySelector('#df-ddd013a6-660b-4a35-92dd-f8feb7ed764c');\n",
              "          const dataTable =\n",
              "            await google.colab.kernel.invokeFunction('convertToInteractive',\n",
              "                                                     [key], {});\n",
              "          if (!dataTable) return;\n",
              "\n",
              "          const docLinkHtml = 'Like what you see? Visit the ' +\n",
              "            '<a target=\"_blank\" href=https://colab.research.google.com/notebooks/data_table.ipynb>data table notebook</a>'\n",
              "            + ' to learn more about interactive tables.';\n",
              "          element.innerHTML = '';\n",
              "          dataTable['output_type'] = 'display_data';\n",
              "          await google.colab.output.renderOutput(dataTable, element);\n",
              "          const docLink = document.createElement('div');\n",
              "          docLink.innerHTML = docLinkHtml;\n",
              "          element.appendChild(docLink);\n",
              "        }\n",
              "      </script>\n",
              "    </div>\n",
              "  </div>\n",
              "  "
            ]
          },
          "metadata": {},
          "execution_count": 23
        }
      ]
    },
    {
      "cell_type": "markdown",
      "source": [
        "**2) Removing URLs**"
      ],
      "metadata": {
        "id": "TORp8eOgWFlT"
      }
    },
    {
      "cell_type": "code",
      "source": [
        "def remove_url(text):\n",
        "    re_url = re.compile('https?://\\S+|www\\.\\S+')\n",
        "    return re_url.sub('', text)\n",
        "\n",
        "df['tweet'] = df['tweet'].apply(remove_url)"
      ],
      "metadata": {
        "execution": {
          "iopub.status.busy": "2023-05-15T07:42:22.563514Z",
          "iopub.execute_input": "2023-05-15T07:42:22.564003Z",
          "iopub.status.idle": "2023-05-15T07:42:22.847714Z",
          "shell.execute_reply.started": "2023-05-15T07:42:22.563957Z",
          "shell.execute_reply": "2023-05-15T07:42:22.846437Z"
        },
        "trusted": true,
        "id": "mnSLHDLFWFlU"
      },
      "execution_count": null,
      "outputs": []
    },
    {
      "cell_type": "code",
      "source": [
        "df.head()"
      ],
      "metadata": {
        "colab": {
          "base_uri": "https://localhost:8080/",
          "height": 206
        },
        "id": "0R6qqnn1tyk2",
        "outputId": "3a0a4eae-8edc-4025-98ee-f34942efc9ce"
      },
      "execution_count": null,
      "outputs": [
        {
          "output_type": "execute_result",
          "data": {
            "text/plain": [
              "                                               tweet  label  total words  \\\n",
              "0  sun downs technical director: al-ahly respecte...      0           11   \n",
              "1  shawky gharib after the tie with enppi: our go...      0           16   \n",
              "2  egyptian sports news today, wednesday 1/25/202...      0           25   \n",
              "3  the main referees committee of the egyptian fo...      0           36   \n",
              "4  haji bari, the striker of the future team, is ...      0           39   \n",
              "\n",
              "   total chars  \n",
              "0           58  \n",
              "1           67  \n",
              "2          149  \n",
              "3          187  \n",
              "4          196  "
            ],
            "text/html": [
              "\n",
              "  <div id=\"df-13789f0b-1fdc-4d50-b9ef-8fd7bf99da51\">\n",
              "    <div class=\"colab-df-container\">\n",
              "      <div>\n",
              "<style scoped>\n",
              "    .dataframe tbody tr th:only-of-type {\n",
              "        vertical-align: middle;\n",
              "    }\n",
              "\n",
              "    .dataframe tbody tr th {\n",
              "        vertical-align: top;\n",
              "    }\n",
              "\n",
              "    .dataframe thead th {\n",
              "        text-align: right;\n",
              "    }\n",
              "</style>\n",
              "<table border=\"1\" class=\"dataframe\">\n",
              "  <thead>\n",
              "    <tr style=\"text-align: right;\">\n",
              "      <th></th>\n",
              "      <th>tweet</th>\n",
              "      <th>label</th>\n",
              "      <th>total words</th>\n",
              "      <th>total chars</th>\n",
              "    </tr>\n",
              "  </thead>\n",
              "  <tbody>\n",
              "    <tr>\n",
              "      <th>0</th>\n",
              "      <td>sun downs technical director: al-ahly respecte...</td>\n",
              "      <td>0</td>\n",
              "      <td>11</td>\n",
              "      <td>58</td>\n",
              "    </tr>\n",
              "    <tr>\n",
              "      <th>1</th>\n",
              "      <td>shawky gharib after the tie with enppi: our go...</td>\n",
              "      <td>0</td>\n",
              "      <td>16</td>\n",
              "      <td>67</td>\n",
              "    </tr>\n",
              "    <tr>\n",
              "      <th>2</th>\n",
              "      <td>egyptian sports news today, wednesday 1/25/202...</td>\n",
              "      <td>0</td>\n",
              "      <td>25</td>\n",
              "      <td>149</td>\n",
              "    </tr>\n",
              "    <tr>\n",
              "      <th>3</th>\n",
              "      <td>the main referees committee of the egyptian fo...</td>\n",
              "      <td>0</td>\n",
              "      <td>36</td>\n",
              "      <td>187</td>\n",
              "    </tr>\n",
              "    <tr>\n",
              "      <th>4</th>\n",
              "      <td>haji bari, the striker of the future team, is ...</td>\n",
              "      <td>0</td>\n",
              "      <td>39</td>\n",
              "      <td>196</td>\n",
              "    </tr>\n",
              "  </tbody>\n",
              "</table>\n",
              "</div>\n",
              "      <button class=\"colab-df-convert\" onclick=\"convertToInteractive('df-13789f0b-1fdc-4d50-b9ef-8fd7bf99da51')\"\n",
              "              title=\"Convert this dataframe to an interactive table.\"\n",
              "              style=\"display:none;\">\n",
              "        \n",
              "  <svg xmlns=\"http://www.w3.org/2000/svg\" height=\"24px\"viewBox=\"0 0 24 24\"\n",
              "       width=\"24px\">\n",
              "    <path d=\"M0 0h24v24H0V0z\" fill=\"none\"/>\n",
              "    <path d=\"M18.56 5.44l.94 2.06.94-2.06 2.06-.94-2.06-.94-.94-2.06-.94 2.06-2.06.94zm-11 1L8.5 8.5l.94-2.06 2.06-.94-2.06-.94L8.5 2.5l-.94 2.06-2.06.94zm10 10l.94 2.06.94-2.06 2.06-.94-2.06-.94-.94-2.06-.94 2.06-2.06.94z\"/><path d=\"M17.41 7.96l-1.37-1.37c-.4-.4-.92-.59-1.43-.59-.52 0-1.04.2-1.43.59L10.3 9.45l-7.72 7.72c-.78.78-.78 2.05 0 2.83L4 21.41c.39.39.9.59 1.41.59.51 0 1.02-.2 1.41-.59l7.78-7.78 2.81-2.81c.8-.78.8-2.07 0-2.86zM5.41 20L4 18.59l7.72-7.72 1.47 1.35L5.41 20z\"/>\n",
              "  </svg>\n",
              "      </button>\n",
              "      \n",
              "  <style>\n",
              "    .colab-df-container {\n",
              "      display:flex;\n",
              "      flex-wrap:wrap;\n",
              "      gap: 12px;\n",
              "    }\n",
              "\n",
              "    .colab-df-convert {\n",
              "      background-color: #E8F0FE;\n",
              "      border: none;\n",
              "      border-radius: 50%;\n",
              "      cursor: pointer;\n",
              "      display: none;\n",
              "      fill: #1967D2;\n",
              "      height: 32px;\n",
              "      padding: 0 0 0 0;\n",
              "      width: 32px;\n",
              "    }\n",
              "\n",
              "    .colab-df-convert:hover {\n",
              "      background-color: #E2EBFA;\n",
              "      box-shadow: 0px 1px 2px rgba(60, 64, 67, 0.3), 0px 1px 3px 1px rgba(60, 64, 67, 0.15);\n",
              "      fill: #174EA6;\n",
              "    }\n",
              "\n",
              "    [theme=dark] .colab-df-convert {\n",
              "      background-color: #3B4455;\n",
              "      fill: #D2E3FC;\n",
              "    }\n",
              "\n",
              "    [theme=dark] .colab-df-convert:hover {\n",
              "      background-color: #434B5C;\n",
              "      box-shadow: 0px 1px 3px 1px rgba(0, 0, 0, 0.15);\n",
              "      filter: drop-shadow(0px 1px 2px rgba(0, 0, 0, 0.3));\n",
              "      fill: #FFFFFF;\n",
              "    }\n",
              "  </style>\n",
              "\n",
              "      <script>\n",
              "        const buttonEl =\n",
              "          document.querySelector('#df-13789f0b-1fdc-4d50-b9ef-8fd7bf99da51 button.colab-df-convert');\n",
              "        buttonEl.style.display =\n",
              "          google.colab.kernel.accessAllowed ? 'block' : 'none';\n",
              "\n",
              "        async function convertToInteractive(key) {\n",
              "          const element = document.querySelector('#df-13789f0b-1fdc-4d50-b9ef-8fd7bf99da51');\n",
              "          const dataTable =\n",
              "            await google.colab.kernel.invokeFunction('convertToInteractive',\n",
              "                                                     [key], {});\n",
              "          if (!dataTable) return;\n",
              "\n",
              "          const docLinkHtml = 'Like what you see? Visit the ' +\n",
              "            '<a target=\"_blank\" href=https://colab.research.google.com/notebooks/data_table.ipynb>data table notebook</a>'\n",
              "            + ' to learn more about interactive tables.';\n",
              "          element.innerHTML = '';\n",
              "          dataTable['output_type'] = 'display_data';\n",
              "          await google.colab.output.renderOutput(dataTable, element);\n",
              "          const docLink = document.createElement('div');\n",
              "          docLink.innerHTML = docLinkHtml;\n",
              "          element.appendChild(docLink);\n",
              "        }\n",
              "      </script>\n",
              "    </div>\n",
              "  </div>\n",
              "  "
            ]
          },
          "metadata": {},
          "execution_count": 25
        }
      ]
    },
    {
      "cell_type": "code",
      "source": [
        "df['tweet'] = df['tweet'].apply(word_tokenize)"
      ],
      "metadata": {
        "id": "7G8DQMeap8Ah"
      },
      "execution_count": null,
      "outputs": []
    },
    {
      "cell_type": "code",
      "source": [
        "df.head()"
      ],
      "metadata": {
        "colab": {
          "base_uri": "https://localhost:8080/",
          "height": 206
        },
        "id": "fD815Ae0qm4i",
        "outputId": "a3649972-284b-499f-f107-a38bd56d12e0"
      },
      "execution_count": null,
      "outputs": [
        {
          "output_type": "execute_result",
          "data": {
            "text/plain": [
              "                                               tweet  label  total words  \\\n",
              "0  [sun, downs, technical, director, :, al-ahly, ...      0           11   \n",
              "1  [shawky, gharib, after, the, tie, with, enppi,...      0           16   \n",
              "2  [egyptian, sports, news, today, ,, wednesday, ...      0           25   \n",
              "3  [the, main, referees, committee, of, the, egyp...      0           36   \n",
              "4  [haji, bari, ,, the, striker, of, the, future,...      0           39   \n",
              "\n",
              "   total chars  \n",
              "0           58  \n",
              "1           67  \n",
              "2          149  \n",
              "3          187  \n",
              "4          196  "
            ],
            "text/html": [
              "\n",
              "  <div id=\"df-75e49c52-7b9b-48e1-8850-a66599565a58\">\n",
              "    <div class=\"colab-df-container\">\n",
              "      <div>\n",
              "<style scoped>\n",
              "    .dataframe tbody tr th:only-of-type {\n",
              "        vertical-align: middle;\n",
              "    }\n",
              "\n",
              "    .dataframe tbody tr th {\n",
              "        vertical-align: top;\n",
              "    }\n",
              "\n",
              "    .dataframe thead th {\n",
              "        text-align: right;\n",
              "    }\n",
              "</style>\n",
              "<table border=\"1\" class=\"dataframe\">\n",
              "  <thead>\n",
              "    <tr style=\"text-align: right;\">\n",
              "      <th></th>\n",
              "      <th>tweet</th>\n",
              "      <th>label</th>\n",
              "      <th>total words</th>\n",
              "      <th>total chars</th>\n",
              "    </tr>\n",
              "  </thead>\n",
              "  <tbody>\n",
              "    <tr>\n",
              "      <th>0</th>\n",
              "      <td>[sun, downs, technical, director, :, al-ahly, ...</td>\n",
              "      <td>0</td>\n",
              "      <td>11</td>\n",
              "      <td>58</td>\n",
              "    </tr>\n",
              "    <tr>\n",
              "      <th>1</th>\n",
              "      <td>[shawky, gharib, after, the, tie, with, enppi,...</td>\n",
              "      <td>0</td>\n",
              "      <td>16</td>\n",
              "      <td>67</td>\n",
              "    </tr>\n",
              "    <tr>\n",
              "      <th>2</th>\n",
              "      <td>[egyptian, sports, news, today, ,, wednesday, ...</td>\n",
              "      <td>0</td>\n",
              "      <td>25</td>\n",
              "      <td>149</td>\n",
              "    </tr>\n",
              "    <tr>\n",
              "      <th>3</th>\n",
              "      <td>[the, main, referees, committee, of, the, egyp...</td>\n",
              "      <td>0</td>\n",
              "      <td>36</td>\n",
              "      <td>187</td>\n",
              "    </tr>\n",
              "    <tr>\n",
              "      <th>4</th>\n",
              "      <td>[haji, bari, ,, the, striker, of, the, future,...</td>\n",
              "      <td>0</td>\n",
              "      <td>39</td>\n",
              "      <td>196</td>\n",
              "    </tr>\n",
              "  </tbody>\n",
              "</table>\n",
              "</div>\n",
              "      <button class=\"colab-df-convert\" onclick=\"convertToInteractive('df-75e49c52-7b9b-48e1-8850-a66599565a58')\"\n",
              "              title=\"Convert this dataframe to an interactive table.\"\n",
              "              style=\"display:none;\">\n",
              "        \n",
              "  <svg xmlns=\"http://www.w3.org/2000/svg\" height=\"24px\"viewBox=\"0 0 24 24\"\n",
              "       width=\"24px\">\n",
              "    <path d=\"M0 0h24v24H0V0z\" fill=\"none\"/>\n",
              "    <path d=\"M18.56 5.44l.94 2.06.94-2.06 2.06-.94-2.06-.94-.94-2.06-.94 2.06-2.06.94zm-11 1L8.5 8.5l.94-2.06 2.06-.94-2.06-.94L8.5 2.5l-.94 2.06-2.06.94zm10 10l.94 2.06.94-2.06 2.06-.94-2.06-.94-.94-2.06-.94 2.06-2.06.94z\"/><path d=\"M17.41 7.96l-1.37-1.37c-.4-.4-.92-.59-1.43-.59-.52 0-1.04.2-1.43.59L10.3 9.45l-7.72 7.72c-.78.78-.78 2.05 0 2.83L4 21.41c.39.39.9.59 1.41.59.51 0 1.02-.2 1.41-.59l7.78-7.78 2.81-2.81c.8-.78.8-2.07 0-2.86zM5.41 20L4 18.59l7.72-7.72 1.47 1.35L5.41 20z\"/>\n",
              "  </svg>\n",
              "      </button>\n",
              "      \n",
              "  <style>\n",
              "    .colab-df-container {\n",
              "      display:flex;\n",
              "      flex-wrap:wrap;\n",
              "      gap: 12px;\n",
              "    }\n",
              "\n",
              "    .colab-df-convert {\n",
              "      background-color: #E8F0FE;\n",
              "      border: none;\n",
              "      border-radius: 50%;\n",
              "      cursor: pointer;\n",
              "      display: none;\n",
              "      fill: #1967D2;\n",
              "      height: 32px;\n",
              "      padding: 0 0 0 0;\n",
              "      width: 32px;\n",
              "    }\n",
              "\n",
              "    .colab-df-convert:hover {\n",
              "      background-color: #E2EBFA;\n",
              "      box-shadow: 0px 1px 2px rgba(60, 64, 67, 0.3), 0px 1px 3px 1px rgba(60, 64, 67, 0.15);\n",
              "      fill: #174EA6;\n",
              "    }\n",
              "\n",
              "    [theme=dark] .colab-df-convert {\n",
              "      background-color: #3B4455;\n",
              "      fill: #D2E3FC;\n",
              "    }\n",
              "\n",
              "    [theme=dark] .colab-df-convert:hover {\n",
              "      background-color: #434B5C;\n",
              "      box-shadow: 0px 1px 3px 1px rgba(0, 0, 0, 0.15);\n",
              "      filter: drop-shadow(0px 1px 2px rgba(0, 0, 0, 0.3));\n",
              "      fill: #FFFFFF;\n",
              "    }\n",
              "  </style>\n",
              "\n",
              "      <script>\n",
              "        const buttonEl =\n",
              "          document.querySelector('#df-75e49c52-7b9b-48e1-8850-a66599565a58 button.colab-df-convert');\n",
              "        buttonEl.style.display =\n",
              "          google.colab.kernel.accessAllowed ? 'block' : 'none';\n",
              "\n",
              "        async function convertToInteractive(key) {\n",
              "          const element = document.querySelector('#df-75e49c52-7b9b-48e1-8850-a66599565a58');\n",
              "          const dataTable =\n",
              "            await google.colab.kernel.invokeFunction('convertToInteractive',\n",
              "                                                     [key], {});\n",
              "          if (!dataTable) return;\n",
              "\n",
              "          const docLinkHtml = 'Like what you see? Visit the ' +\n",
              "            '<a target=\"_blank\" href=https://colab.research.google.com/notebooks/data_table.ipynb>data table notebook</a>'\n",
              "            + ' to learn more about interactive tables.';\n",
              "          element.innerHTML = '';\n",
              "          dataTable['output_type'] = 'display_data';\n",
              "          await google.colab.output.renderOutput(dataTable, element);\n",
              "          const docLink = document.createElement('div');\n",
              "          docLink.innerHTML = docLinkHtml;\n",
              "          element.appendChild(docLink);\n",
              "        }\n",
              "      </script>\n",
              "    </div>\n",
              "  </div>\n",
              "  "
            ]
          },
          "metadata": {},
          "execution_count": 27
        }
      ]
    },
    {
      "cell_type": "markdown",
      "source": [
        "**3) Removing Punctuations**"
      ],
      "metadata": {
        "id": "5vGZ_CYXWFlU"
      }
    },
    {
      "cell_type": "code",
      "source": [
        "exclude = string.punctuation\n",
        "\n",
        "def remove_punc(text):\n",
        "  data = []\n",
        "  for word in text:\n",
        "    data.append(word.translate(str.maketrans('', '', exclude)))\n",
        "    # return text.translate(str.maketrans('', '', exclude))\n",
        "  return data\n",
        "\n",
        "df['tweet'] = df['tweet'].apply(remove_punc)"
      ],
      "metadata": {
        "execution": {
          "iopub.status.busy": "2023-05-15T07:42:22.849533Z",
          "iopub.execute_input": "2023-05-15T07:42:22.849981Z",
          "iopub.status.idle": "2023-05-15T07:42:23.104441Z",
          "shell.execute_reply.started": "2023-05-15T07:42:22.849938Z",
          "shell.execute_reply": "2023-05-15T07:42:23.103102Z"
        },
        "trusted": true,
        "id": "8rXSa4bgWFlm"
      },
      "execution_count": null,
      "outputs": []
    },
    {
      "cell_type": "code",
      "source": [
        "df.head()"
      ],
      "metadata": {
        "colab": {
          "base_uri": "https://localhost:8080/",
          "height": 206
        },
        "id": "wk91RkAf0Qid",
        "outputId": "f5121594-d8d2-4e61-9cd3-e2c995aed293"
      },
      "execution_count": null,
      "outputs": [
        {
          "output_type": "execute_result",
          "data": {
            "text/plain": [
              "                                               tweet  label  total words  \\\n",
              "0  [sun, downs, technical, director, , alahly, re...      0           11   \n",
              "1  [shawky, gharib, after, the, tie, with, enppi,...      0           16   \n",
              "2  [egyptian, sports, news, today, , wednesday, 1...      0           25   \n",
              "3  [the, main, referees, committee, of, the, egyp...      0           36   \n",
              "4  [haji, bari, , the, striker, of, the, future, ...      0           39   \n",
              "\n",
              "   total chars  \n",
              "0           58  \n",
              "1           67  \n",
              "2          149  \n",
              "3          187  \n",
              "4          196  "
            ],
            "text/html": [
              "\n",
              "  <div id=\"df-e86d188f-2724-4970-b944-5c39aa13e8a2\">\n",
              "    <div class=\"colab-df-container\">\n",
              "      <div>\n",
              "<style scoped>\n",
              "    .dataframe tbody tr th:only-of-type {\n",
              "        vertical-align: middle;\n",
              "    }\n",
              "\n",
              "    .dataframe tbody tr th {\n",
              "        vertical-align: top;\n",
              "    }\n",
              "\n",
              "    .dataframe thead th {\n",
              "        text-align: right;\n",
              "    }\n",
              "</style>\n",
              "<table border=\"1\" class=\"dataframe\">\n",
              "  <thead>\n",
              "    <tr style=\"text-align: right;\">\n",
              "      <th></th>\n",
              "      <th>tweet</th>\n",
              "      <th>label</th>\n",
              "      <th>total words</th>\n",
              "      <th>total chars</th>\n",
              "    </tr>\n",
              "  </thead>\n",
              "  <tbody>\n",
              "    <tr>\n",
              "      <th>0</th>\n",
              "      <td>[sun, downs, technical, director, , alahly, re...</td>\n",
              "      <td>0</td>\n",
              "      <td>11</td>\n",
              "      <td>58</td>\n",
              "    </tr>\n",
              "    <tr>\n",
              "      <th>1</th>\n",
              "      <td>[shawky, gharib, after, the, tie, with, enppi,...</td>\n",
              "      <td>0</td>\n",
              "      <td>16</td>\n",
              "      <td>67</td>\n",
              "    </tr>\n",
              "    <tr>\n",
              "      <th>2</th>\n",
              "      <td>[egyptian, sports, news, today, , wednesday, 1...</td>\n",
              "      <td>0</td>\n",
              "      <td>25</td>\n",
              "      <td>149</td>\n",
              "    </tr>\n",
              "    <tr>\n",
              "      <th>3</th>\n",
              "      <td>[the, main, referees, committee, of, the, egyp...</td>\n",
              "      <td>0</td>\n",
              "      <td>36</td>\n",
              "      <td>187</td>\n",
              "    </tr>\n",
              "    <tr>\n",
              "      <th>4</th>\n",
              "      <td>[haji, bari, , the, striker, of, the, future, ...</td>\n",
              "      <td>0</td>\n",
              "      <td>39</td>\n",
              "      <td>196</td>\n",
              "    </tr>\n",
              "  </tbody>\n",
              "</table>\n",
              "</div>\n",
              "      <button class=\"colab-df-convert\" onclick=\"convertToInteractive('df-e86d188f-2724-4970-b944-5c39aa13e8a2')\"\n",
              "              title=\"Convert this dataframe to an interactive table.\"\n",
              "              style=\"display:none;\">\n",
              "        \n",
              "  <svg xmlns=\"http://www.w3.org/2000/svg\" height=\"24px\"viewBox=\"0 0 24 24\"\n",
              "       width=\"24px\">\n",
              "    <path d=\"M0 0h24v24H0V0z\" fill=\"none\"/>\n",
              "    <path d=\"M18.56 5.44l.94 2.06.94-2.06 2.06-.94-2.06-.94-.94-2.06-.94 2.06-2.06.94zm-11 1L8.5 8.5l.94-2.06 2.06-.94-2.06-.94L8.5 2.5l-.94 2.06-2.06.94zm10 10l.94 2.06.94-2.06 2.06-.94-2.06-.94-.94-2.06-.94 2.06-2.06.94z\"/><path d=\"M17.41 7.96l-1.37-1.37c-.4-.4-.92-.59-1.43-.59-.52 0-1.04.2-1.43.59L10.3 9.45l-7.72 7.72c-.78.78-.78 2.05 0 2.83L4 21.41c.39.39.9.59 1.41.59.51 0 1.02-.2 1.41-.59l7.78-7.78 2.81-2.81c.8-.78.8-2.07 0-2.86zM5.41 20L4 18.59l7.72-7.72 1.47 1.35L5.41 20z\"/>\n",
              "  </svg>\n",
              "      </button>\n",
              "      \n",
              "  <style>\n",
              "    .colab-df-container {\n",
              "      display:flex;\n",
              "      flex-wrap:wrap;\n",
              "      gap: 12px;\n",
              "    }\n",
              "\n",
              "    .colab-df-convert {\n",
              "      background-color: #E8F0FE;\n",
              "      border: none;\n",
              "      border-radius: 50%;\n",
              "      cursor: pointer;\n",
              "      display: none;\n",
              "      fill: #1967D2;\n",
              "      height: 32px;\n",
              "      padding: 0 0 0 0;\n",
              "      width: 32px;\n",
              "    }\n",
              "\n",
              "    .colab-df-convert:hover {\n",
              "      background-color: #E2EBFA;\n",
              "      box-shadow: 0px 1px 2px rgba(60, 64, 67, 0.3), 0px 1px 3px 1px rgba(60, 64, 67, 0.15);\n",
              "      fill: #174EA6;\n",
              "    }\n",
              "\n",
              "    [theme=dark] .colab-df-convert {\n",
              "      background-color: #3B4455;\n",
              "      fill: #D2E3FC;\n",
              "    }\n",
              "\n",
              "    [theme=dark] .colab-df-convert:hover {\n",
              "      background-color: #434B5C;\n",
              "      box-shadow: 0px 1px 3px 1px rgba(0, 0, 0, 0.15);\n",
              "      filter: drop-shadow(0px 1px 2px rgba(0, 0, 0, 0.3));\n",
              "      fill: #FFFFFF;\n",
              "    }\n",
              "  </style>\n",
              "\n",
              "      <script>\n",
              "        const buttonEl =\n",
              "          document.querySelector('#df-e86d188f-2724-4970-b944-5c39aa13e8a2 button.colab-df-convert');\n",
              "        buttonEl.style.display =\n",
              "          google.colab.kernel.accessAllowed ? 'block' : 'none';\n",
              "\n",
              "        async function convertToInteractive(key) {\n",
              "          const element = document.querySelector('#df-e86d188f-2724-4970-b944-5c39aa13e8a2');\n",
              "          const dataTable =\n",
              "            await google.colab.kernel.invokeFunction('convertToInteractive',\n",
              "                                                     [key], {});\n",
              "          if (!dataTable) return;\n",
              "\n",
              "          const docLinkHtml = 'Like what you see? Visit the ' +\n",
              "            '<a target=\"_blank\" href=https://colab.research.google.com/notebooks/data_table.ipynb>data table notebook</a>'\n",
              "            + ' to learn more about interactive tables.';\n",
              "          element.innerHTML = '';\n",
              "          dataTable['output_type'] = 'display_data';\n",
              "          await google.colab.output.renderOutput(dataTable, element);\n",
              "          const docLink = document.createElement('div');\n",
              "          docLink.innerHTML = docLinkHtml;\n",
              "          element.appendChild(docLink);\n",
              "        }\n",
              "      </script>\n",
              "    </div>\n",
              "  </div>\n",
              "  "
            ]
          },
          "metadata": {},
          "execution_count": 29
        }
      ]
    },
    {
      "cell_type": "markdown",
      "source": [
        "**4) Removing stopwords**"
      ],
      "metadata": {
        "id": "78fvU-p_WFln"
      }
    },
    {
      "cell_type": "code",
      "source": [
        "import nltk\n",
        "nltk.download('punkt')\n",
        "nltk.download('stopwords')\n"
      ],
      "metadata": {
        "colab": {
          "base_uri": "https://localhost:8080/"
        },
        "id": "8uL7nH4_jEod",
        "outputId": "773ade6e-d6b4-412d-e01b-28a9b5dcecfb"
      },
      "execution_count": null,
      "outputs": [
        {
          "output_type": "stream",
          "name": "stderr",
          "text": [
            "[nltk_data] Downloading package punkt to /root/nltk_data...\n",
            "[nltk_data]   Package punkt is already up-to-date!\n",
            "[nltk_data] Downloading package stopwords to /root/nltk_data...\n",
            "[nltk_data]   Unzipping corpora/stopwords.zip.\n"
          ]
        },
        {
          "output_type": "execute_result",
          "data": {
            "text/plain": [
              "True"
            ]
          },
          "metadata": {},
          "execution_count": 30
        }
      ]
    },
    {
      "cell_type": "code",
      "source": [
        "def remove_stopwords(text):\n",
        "    new_list = []\n",
        "    stopwrds = stopwords.words('english')\n",
        "    for word in text:\n",
        "        if word not in stopwrds:\n",
        "            new_list.append(word)\n",
        "    return new_list\n",
        "\n",
        "df['tweet'] = df['tweet'].apply(remove_stopwords)"
      ],
      "metadata": {
        "execution": {
          "iopub.status.busy": "2023-05-15T07:42:23.105829Z",
          "iopub.execute_input": "2023-05-15T07:42:23.106204Z",
          "iopub.status.idle": "2023-05-15T07:42:48.885953Z",
          "shell.execute_reply.started": "2023-05-15T07:42:23.106167Z",
          "shell.execute_reply": "2023-05-15T07:42:48.884591Z"
        },
        "trusted": true,
        "id": "EpbiyKlYWFln"
      },
      "execution_count": null,
      "outputs": []
    },
    {
      "cell_type": "code",
      "source": [
        "df.head()"
      ],
      "metadata": {
        "colab": {
          "base_uri": "https://localhost:8080/",
          "height": 206
        },
        "id": "cENa4azj1-A2",
        "outputId": "568d723f-ea1d-4db8-f86e-ff0d5ea33f20"
      },
      "execution_count": null,
      "outputs": [
        {
          "output_type": "execute_result",
          "data": {
            "text/plain": [
              "                                               tweet  label  total words  \\\n",
              "0  [sun, downs, technical, director, , alahly, re...      0           11   \n",
              "1  [shawky, gharib, tie, enppi, , goal, return, g...      0           16   \n",
              "2  [egyptian, sports, news, today, , wednesday, 1...      0           25   \n",
              "3  [main, referees, committee, egyptian, football...      0           36   \n",
              "4  [haji, bari, , striker, future, team, , underg...      0           39   \n",
              "\n",
              "   total chars  \n",
              "0           58  \n",
              "1           67  \n",
              "2          149  \n",
              "3          187  \n",
              "4          196  "
            ],
            "text/html": [
              "\n",
              "  <div id=\"df-a0fd62b5-751a-4d00-a5d2-22ae4f332442\">\n",
              "    <div class=\"colab-df-container\">\n",
              "      <div>\n",
              "<style scoped>\n",
              "    .dataframe tbody tr th:only-of-type {\n",
              "        vertical-align: middle;\n",
              "    }\n",
              "\n",
              "    .dataframe tbody tr th {\n",
              "        vertical-align: top;\n",
              "    }\n",
              "\n",
              "    .dataframe thead th {\n",
              "        text-align: right;\n",
              "    }\n",
              "</style>\n",
              "<table border=\"1\" class=\"dataframe\">\n",
              "  <thead>\n",
              "    <tr style=\"text-align: right;\">\n",
              "      <th></th>\n",
              "      <th>tweet</th>\n",
              "      <th>label</th>\n",
              "      <th>total words</th>\n",
              "      <th>total chars</th>\n",
              "    </tr>\n",
              "  </thead>\n",
              "  <tbody>\n",
              "    <tr>\n",
              "      <th>0</th>\n",
              "      <td>[sun, downs, technical, director, , alahly, re...</td>\n",
              "      <td>0</td>\n",
              "      <td>11</td>\n",
              "      <td>58</td>\n",
              "    </tr>\n",
              "    <tr>\n",
              "      <th>1</th>\n",
              "      <td>[shawky, gharib, tie, enppi, , goal, return, g...</td>\n",
              "      <td>0</td>\n",
              "      <td>16</td>\n",
              "      <td>67</td>\n",
              "    </tr>\n",
              "    <tr>\n",
              "      <th>2</th>\n",
              "      <td>[egyptian, sports, news, today, , wednesday, 1...</td>\n",
              "      <td>0</td>\n",
              "      <td>25</td>\n",
              "      <td>149</td>\n",
              "    </tr>\n",
              "    <tr>\n",
              "      <th>3</th>\n",
              "      <td>[main, referees, committee, egyptian, football...</td>\n",
              "      <td>0</td>\n",
              "      <td>36</td>\n",
              "      <td>187</td>\n",
              "    </tr>\n",
              "    <tr>\n",
              "      <th>4</th>\n",
              "      <td>[haji, bari, , striker, future, team, , underg...</td>\n",
              "      <td>0</td>\n",
              "      <td>39</td>\n",
              "      <td>196</td>\n",
              "    </tr>\n",
              "  </tbody>\n",
              "</table>\n",
              "</div>\n",
              "      <button class=\"colab-df-convert\" onclick=\"convertToInteractive('df-a0fd62b5-751a-4d00-a5d2-22ae4f332442')\"\n",
              "              title=\"Convert this dataframe to an interactive table.\"\n",
              "              style=\"display:none;\">\n",
              "        \n",
              "  <svg xmlns=\"http://www.w3.org/2000/svg\" height=\"24px\"viewBox=\"0 0 24 24\"\n",
              "       width=\"24px\">\n",
              "    <path d=\"M0 0h24v24H0V0z\" fill=\"none\"/>\n",
              "    <path d=\"M18.56 5.44l.94 2.06.94-2.06 2.06-.94-2.06-.94-.94-2.06-.94 2.06-2.06.94zm-11 1L8.5 8.5l.94-2.06 2.06-.94-2.06-.94L8.5 2.5l-.94 2.06-2.06.94zm10 10l.94 2.06.94-2.06 2.06-.94-2.06-.94-.94-2.06-.94 2.06-2.06.94z\"/><path d=\"M17.41 7.96l-1.37-1.37c-.4-.4-.92-.59-1.43-.59-.52 0-1.04.2-1.43.59L10.3 9.45l-7.72 7.72c-.78.78-.78 2.05 0 2.83L4 21.41c.39.39.9.59 1.41.59.51 0 1.02-.2 1.41-.59l7.78-7.78 2.81-2.81c.8-.78.8-2.07 0-2.86zM5.41 20L4 18.59l7.72-7.72 1.47 1.35L5.41 20z\"/>\n",
              "  </svg>\n",
              "      </button>\n",
              "      \n",
              "  <style>\n",
              "    .colab-df-container {\n",
              "      display:flex;\n",
              "      flex-wrap:wrap;\n",
              "      gap: 12px;\n",
              "    }\n",
              "\n",
              "    .colab-df-convert {\n",
              "      background-color: #E8F0FE;\n",
              "      border: none;\n",
              "      border-radius: 50%;\n",
              "      cursor: pointer;\n",
              "      display: none;\n",
              "      fill: #1967D2;\n",
              "      height: 32px;\n",
              "      padding: 0 0 0 0;\n",
              "      width: 32px;\n",
              "    }\n",
              "\n",
              "    .colab-df-convert:hover {\n",
              "      background-color: #E2EBFA;\n",
              "      box-shadow: 0px 1px 2px rgba(60, 64, 67, 0.3), 0px 1px 3px 1px rgba(60, 64, 67, 0.15);\n",
              "      fill: #174EA6;\n",
              "    }\n",
              "\n",
              "    [theme=dark] .colab-df-convert {\n",
              "      background-color: #3B4455;\n",
              "      fill: #D2E3FC;\n",
              "    }\n",
              "\n",
              "    [theme=dark] .colab-df-convert:hover {\n",
              "      background-color: #434B5C;\n",
              "      box-shadow: 0px 1px 3px 1px rgba(0, 0, 0, 0.15);\n",
              "      filter: drop-shadow(0px 1px 2px rgba(0, 0, 0, 0.3));\n",
              "      fill: #FFFFFF;\n",
              "    }\n",
              "  </style>\n",
              "\n",
              "      <script>\n",
              "        const buttonEl =\n",
              "          document.querySelector('#df-a0fd62b5-751a-4d00-a5d2-22ae4f332442 button.colab-df-convert');\n",
              "        buttonEl.style.display =\n",
              "          google.colab.kernel.accessAllowed ? 'block' : 'none';\n",
              "\n",
              "        async function convertToInteractive(key) {\n",
              "          const element = document.querySelector('#df-a0fd62b5-751a-4d00-a5d2-22ae4f332442');\n",
              "          const dataTable =\n",
              "            await google.colab.kernel.invokeFunction('convertToInteractive',\n",
              "                                                     [key], {});\n",
              "          if (!dataTable) return;\n",
              "\n",
              "          const docLinkHtml = 'Like what you see? Visit the ' +\n",
              "            '<a target=\"_blank\" href=https://colab.research.google.com/notebooks/data_table.ipynb>data table notebook</a>'\n",
              "            + ' to learn more about interactive tables.';\n",
              "          element.innerHTML = '';\n",
              "          dataTable['output_type'] = 'display_data';\n",
              "          await google.colab.output.renderOutput(dataTable, element);\n",
              "          const docLink = document.createElement('div');\n",
              "          docLink.innerHTML = docLinkHtml;\n",
              "          element.appendChild(docLink);\n",
              "        }\n",
              "      </script>\n",
              "    </div>\n",
              "  </div>\n",
              "  "
            ]
          },
          "metadata": {},
          "execution_count": 32
        }
      ]
    },
    {
      "cell_type": "markdown",
      "source": [
        "**5) Stemming**"
      ],
      "metadata": {
        "id": "13gdveJPWFlo"
      }
    },
    {
      "cell_type": "code",
      "source": [
        "def perform_stemming(text):\n",
        "    stemmer = PorterStemmer()\n",
        "    new_list = []\n",
        "    for word in text:\n",
        "        new_list.append(stemmer.stem(word))\n",
        "\n",
        "    return new_list\n",
        "\n",
        "df['tweet'] = df['tweet'].apply(perform_stemming)"
      ],
      "metadata": {
        "execution": {
          "iopub.status.busy": "2023-05-15T07:42:48.887680Z",
          "iopub.execute_input": "2023-05-15T07:42:48.889062Z",
          "iopub.status.idle": "2023-05-15T07:43:26.592436Z",
          "shell.execute_reply.started": "2023-05-15T07:42:48.889000Z",
          "shell.execute_reply": "2023-05-15T07:43:26.591034Z"
        },
        "trusted": true,
        "id": "d-APsgBOWFlo"
      },
      "execution_count": null,
      "outputs": []
    },
    {
      "cell_type": "code",
      "source": [
        "df.head()"
      ],
      "metadata": {
        "colab": {
          "base_uri": "https://localhost:8080/",
          "height": 206
        },
        "id": "UGjmbmjK6EWJ",
        "outputId": "bf705451-d8a5-4540-ec1a-3e22414df67f"
      },
      "execution_count": null,
      "outputs": [
        {
          "output_type": "execute_result",
          "data": {
            "text/plain": [
              "                                               tweet  label  total words  \\\n",
              "0  [sun, down, technic, director, , alahli, respe...      0           11   \n",
              "1  [shawki, gharib, tie, enppi, , goal, return, g...      0           16   \n",
              "2  [egyptian, sport, news, today, , wednesday, 12...      0           25   \n",
              "3  [main, refere, committe, egyptian, footbal, as...      0           36   \n",
              "4  [haji, bari, , striker, futur, team, , undergo...      0           39   \n",
              "\n",
              "   total chars  \n",
              "0           58  \n",
              "1           67  \n",
              "2          149  \n",
              "3          187  \n",
              "4          196  "
            ],
            "text/html": [
              "\n",
              "  <div id=\"df-6bb1aaf0-dfd3-408e-9757-481ffd54eb25\">\n",
              "    <div class=\"colab-df-container\">\n",
              "      <div>\n",
              "<style scoped>\n",
              "    .dataframe tbody tr th:only-of-type {\n",
              "        vertical-align: middle;\n",
              "    }\n",
              "\n",
              "    .dataframe tbody tr th {\n",
              "        vertical-align: top;\n",
              "    }\n",
              "\n",
              "    .dataframe thead th {\n",
              "        text-align: right;\n",
              "    }\n",
              "</style>\n",
              "<table border=\"1\" class=\"dataframe\">\n",
              "  <thead>\n",
              "    <tr style=\"text-align: right;\">\n",
              "      <th></th>\n",
              "      <th>tweet</th>\n",
              "      <th>label</th>\n",
              "      <th>total words</th>\n",
              "      <th>total chars</th>\n",
              "    </tr>\n",
              "  </thead>\n",
              "  <tbody>\n",
              "    <tr>\n",
              "      <th>0</th>\n",
              "      <td>[sun, down, technic, director, , alahli, respe...</td>\n",
              "      <td>0</td>\n",
              "      <td>11</td>\n",
              "      <td>58</td>\n",
              "    </tr>\n",
              "    <tr>\n",
              "      <th>1</th>\n",
              "      <td>[shawki, gharib, tie, enppi, , goal, return, g...</td>\n",
              "      <td>0</td>\n",
              "      <td>16</td>\n",
              "      <td>67</td>\n",
              "    </tr>\n",
              "    <tr>\n",
              "      <th>2</th>\n",
              "      <td>[egyptian, sport, news, today, , wednesday, 12...</td>\n",
              "      <td>0</td>\n",
              "      <td>25</td>\n",
              "      <td>149</td>\n",
              "    </tr>\n",
              "    <tr>\n",
              "      <th>3</th>\n",
              "      <td>[main, refere, committe, egyptian, footbal, as...</td>\n",
              "      <td>0</td>\n",
              "      <td>36</td>\n",
              "      <td>187</td>\n",
              "    </tr>\n",
              "    <tr>\n",
              "      <th>4</th>\n",
              "      <td>[haji, bari, , striker, futur, team, , undergo...</td>\n",
              "      <td>0</td>\n",
              "      <td>39</td>\n",
              "      <td>196</td>\n",
              "    </tr>\n",
              "  </tbody>\n",
              "</table>\n",
              "</div>\n",
              "      <button class=\"colab-df-convert\" onclick=\"convertToInteractive('df-6bb1aaf0-dfd3-408e-9757-481ffd54eb25')\"\n",
              "              title=\"Convert this dataframe to an interactive table.\"\n",
              "              style=\"display:none;\">\n",
              "        \n",
              "  <svg xmlns=\"http://www.w3.org/2000/svg\" height=\"24px\"viewBox=\"0 0 24 24\"\n",
              "       width=\"24px\">\n",
              "    <path d=\"M0 0h24v24H0V0z\" fill=\"none\"/>\n",
              "    <path d=\"M18.56 5.44l.94 2.06.94-2.06 2.06-.94-2.06-.94-.94-2.06-.94 2.06-2.06.94zm-11 1L8.5 8.5l.94-2.06 2.06-.94-2.06-.94L8.5 2.5l-.94 2.06-2.06.94zm10 10l.94 2.06.94-2.06 2.06-.94-2.06-.94-.94-2.06-.94 2.06-2.06.94z\"/><path d=\"M17.41 7.96l-1.37-1.37c-.4-.4-.92-.59-1.43-.59-.52 0-1.04.2-1.43.59L10.3 9.45l-7.72 7.72c-.78.78-.78 2.05 0 2.83L4 21.41c.39.39.9.59 1.41.59.51 0 1.02-.2 1.41-.59l7.78-7.78 2.81-2.81c.8-.78.8-2.07 0-2.86zM5.41 20L4 18.59l7.72-7.72 1.47 1.35L5.41 20z\"/>\n",
              "  </svg>\n",
              "      </button>\n",
              "      \n",
              "  <style>\n",
              "    .colab-df-container {\n",
              "      display:flex;\n",
              "      flex-wrap:wrap;\n",
              "      gap: 12px;\n",
              "    }\n",
              "\n",
              "    .colab-df-convert {\n",
              "      background-color: #E8F0FE;\n",
              "      border: none;\n",
              "      border-radius: 50%;\n",
              "      cursor: pointer;\n",
              "      display: none;\n",
              "      fill: #1967D2;\n",
              "      height: 32px;\n",
              "      padding: 0 0 0 0;\n",
              "      width: 32px;\n",
              "    }\n",
              "\n",
              "    .colab-df-convert:hover {\n",
              "      background-color: #E2EBFA;\n",
              "      box-shadow: 0px 1px 2px rgba(60, 64, 67, 0.3), 0px 1px 3px 1px rgba(60, 64, 67, 0.15);\n",
              "      fill: #174EA6;\n",
              "    }\n",
              "\n",
              "    [theme=dark] .colab-df-convert {\n",
              "      background-color: #3B4455;\n",
              "      fill: #D2E3FC;\n",
              "    }\n",
              "\n",
              "    [theme=dark] .colab-df-convert:hover {\n",
              "      background-color: #434B5C;\n",
              "      box-shadow: 0px 1px 3px 1px rgba(0, 0, 0, 0.15);\n",
              "      filter: drop-shadow(0px 1px 2px rgba(0, 0, 0, 0.3));\n",
              "      fill: #FFFFFF;\n",
              "    }\n",
              "  </style>\n",
              "\n",
              "      <script>\n",
              "        const buttonEl =\n",
              "          document.querySelector('#df-6bb1aaf0-dfd3-408e-9757-481ffd54eb25 button.colab-df-convert');\n",
              "        buttonEl.style.display =\n",
              "          google.colab.kernel.accessAllowed ? 'block' : 'none';\n",
              "\n",
              "        async function convertToInteractive(key) {\n",
              "          const element = document.querySelector('#df-6bb1aaf0-dfd3-408e-9757-481ffd54eb25');\n",
              "          const dataTable =\n",
              "            await google.colab.kernel.invokeFunction('convertToInteractive',\n",
              "                                                     [key], {});\n",
              "          if (!dataTable) return;\n",
              "\n",
              "          const docLinkHtml = 'Like what you see? Visit the ' +\n",
              "            '<a target=\"_blank\" href=https://colab.research.google.com/notebooks/data_table.ipynb>data table notebook</a>'\n",
              "            + ' to learn more about interactive tables.';\n",
              "          element.innerHTML = '';\n",
              "          dataTable['output_type'] = 'display_data';\n",
              "          await google.colab.output.renderOutput(dataTable, element);\n",
              "          const docLink = document.createElement('div');\n",
              "          docLink.innerHTML = docLinkHtml;\n",
              "          element.appendChild(docLink);\n",
              "        }\n",
              "      </script>\n",
              "    </div>\n",
              "  </div>\n",
              "  "
            ]
          },
          "metadata": {},
          "execution_count": 34
        }
      ]
    },
    {
      "cell_type": "code",
      "source": [
        "df['tweet'] = df['tweet'].apply(lambda x: ' '.join(x))"
      ],
      "metadata": {
        "id": "jAVpCzu-7LQf"
      },
      "execution_count": null,
      "outputs": []
    },
    {
      "cell_type": "code",
      "source": [
        "df.head()"
      ],
      "metadata": {
        "colab": {
          "base_uri": "https://localhost:8080/",
          "height": 206
        },
        "id": "h67yq7BZ7Vgt",
        "outputId": "b475e938-96fa-4554-b659-9fe32c66f44f"
      },
      "execution_count": null,
      "outputs": [
        {
          "output_type": "execute_result",
          "data": {
            "text/plain": [
              "                                               tweet  label  total words  \\\n",
              "0  sun down technic director  alahli respect us p...      0           11   \n",
              "1  shawki gharib tie enppi  goal return golden squar      0           16   \n",
              "2  egyptian sport news today  wednesday 1252023  ...      0           25   \n",
              "3  main refere committe egyptian footbal associ c...      0           36   \n",
              "4  haji bari  striker futur team  undergo final t...      0           39   \n",
              "\n",
              "   total chars  \n",
              "0           58  \n",
              "1           67  \n",
              "2          149  \n",
              "3          187  \n",
              "4          196  "
            ],
            "text/html": [
              "\n",
              "  <div id=\"df-f6bbba3d-5967-4bcb-949b-8b35d9e96209\">\n",
              "    <div class=\"colab-df-container\">\n",
              "      <div>\n",
              "<style scoped>\n",
              "    .dataframe tbody tr th:only-of-type {\n",
              "        vertical-align: middle;\n",
              "    }\n",
              "\n",
              "    .dataframe tbody tr th {\n",
              "        vertical-align: top;\n",
              "    }\n",
              "\n",
              "    .dataframe thead th {\n",
              "        text-align: right;\n",
              "    }\n",
              "</style>\n",
              "<table border=\"1\" class=\"dataframe\">\n",
              "  <thead>\n",
              "    <tr style=\"text-align: right;\">\n",
              "      <th></th>\n",
              "      <th>tweet</th>\n",
              "      <th>label</th>\n",
              "      <th>total words</th>\n",
              "      <th>total chars</th>\n",
              "    </tr>\n",
              "  </thead>\n",
              "  <tbody>\n",
              "    <tr>\n",
              "      <th>0</th>\n",
              "      <td>sun down technic director  alahli respect us p...</td>\n",
              "      <td>0</td>\n",
              "      <td>11</td>\n",
              "      <td>58</td>\n",
              "    </tr>\n",
              "    <tr>\n",
              "      <th>1</th>\n",
              "      <td>shawki gharib tie enppi  goal return golden squar</td>\n",
              "      <td>0</td>\n",
              "      <td>16</td>\n",
              "      <td>67</td>\n",
              "    </tr>\n",
              "    <tr>\n",
              "      <th>2</th>\n",
              "      <td>egyptian sport news today  wednesday 1252023  ...</td>\n",
              "      <td>0</td>\n",
              "      <td>25</td>\n",
              "      <td>149</td>\n",
              "    </tr>\n",
              "    <tr>\n",
              "      <th>3</th>\n",
              "      <td>main refere committe egyptian footbal associ c...</td>\n",
              "      <td>0</td>\n",
              "      <td>36</td>\n",
              "      <td>187</td>\n",
              "    </tr>\n",
              "    <tr>\n",
              "      <th>4</th>\n",
              "      <td>haji bari  striker futur team  undergo final t...</td>\n",
              "      <td>0</td>\n",
              "      <td>39</td>\n",
              "      <td>196</td>\n",
              "    </tr>\n",
              "  </tbody>\n",
              "</table>\n",
              "</div>\n",
              "      <button class=\"colab-df-convert\" onclick=\"convertToInteractive('df-f6bbba3d-5967-4bcb-949b-8b35d9e96209')\"\n",
              "              title=\"Convert this dataframe to an interactive table.\"\n",
              "              style=\"display:none;\">\n",
              "        \n",
              "  <svg xmlns=\"http://www.w3.org/2000/svg\" height=\"24px\"viewBox=\"0 0 24 24\"\n",
              "       width=\"24px\">\n",
              "    <path d=\"M0 0h24v24H0V0z\" fill=\"none\"/>\n",
              "    <path d=\"M18.56 5.44l.94 2.06.94-2.06 2.06-.94-2.06-.94-.94-2.06-.94 2.06-2.06.94zm-11 1L8.5 8.5l.94-2.06 2.06-.94-2.06-.94L8.5 2.5l-.94 2.06-2.06.94zm10 10l.94 2.06.94-2.06 2.06-.94-2.06-.94-.94-2.06-.94 2.06-2.06.94z\"/><path d=\"M17.41 7.96l-1.37-1.37c-.4-.4-.92-.59-1.43-.59-.52 0-1.04.2-1.43.59L10.3 9.45l-7.72 7.72c-.78.78-.78 2.05 0 2.83L4 21.41c.39.39.9.59 1.41.59.51 0 1.02-.2 1.41-.59l7.78-7.78 2.81-2.81c.8-.78.8-2.07 0-2.86zM5.41 20L4 18.59l7.72-7.72 1.47 1.35L5.41 20z\"/>\n",
              "  </svg>\n",
              "      </button>\n",
              "      \n",
              "  <style>\n",
              "    .colab-df-container {\n",
              "      display:flex;\n",
              "      flex-wrap:wrap;\n",
              "      gap: 12px;\n",
              "    }\n",
              "\n",
              "    .colab-df-convert {\n",
              "      background-color: #E8F0FE;\n",
              "      border: none;\n",
              "      border-radius: 50%;\n",
              "      cursor: pointer;\n",
              "      display: none;\n",
              "      fill: #1967D2;\n",
              "      height: 32px;\n",
              "      padding: 0 0 0 0;\n",
              "      width: 32px;\n",
              "    }\n",
              "\n",
              "    .colab-df-convert:hover {\n",
              "      background-color: #E2EBFA;\n",
              "      box-shadow: 0px 1px 2px rgba(60, 64, 67, 0.3), 0px 1px 3px 1px rgba(60, 64, 67, 0.15);\n",
              "      fill: #174EA6;\n",
              "    }\n",
              "\n",
              "    [theme=dark] .colab-df-convert {\n",
              "      background-color: #3B4455;\n",
              "      fill: #D2E3FC;\n",
              "    }\n",
              "\n",
              "    [theme=dark] .colab-df-convert:hover {\n",
              "      background-color: #434B5C;\n",
              "      box-shadow: 0px 1px 3px 1px rgba(0, 0, 0, 0.15);\n",
              "      filter: drop-shadow(0px 1px 2px rgba(0, 0, 0, 0.3));\n",
              "      fill: #FFFFFF;\n",
              "    }\n",
              "  </style>\n",
              "\n",
              "      <script>\n",
              "        const buttonEl =\n",
              "          document.querySelector('#df-f6bbba3d-5967-4bcb-949b-8b35d9e96209 button.colab-df-convert');\n",
              "        buttonEl.style.display =\n",
              "          google.colab.kernel.accessAllowed ? 'block' : 'none';\n",
              "\n",
              "        async function convertToInteractive(key) {\n",
              "          const element = document.querySelector('#df-f6bbba3d-5967-4bcb-949b-8b35d9e96209');\n",
              "          const dataTable =\n",
              "            await google.colab.kernel.invokeFunction('convertToInteractive',\n",
              "                                                     [key], {});\n",
              "          if (!dataTable) return;\n",
              "\n",
              "          const docLinkHtml = 'Like what you see? Visit the ' +\n",
              "            '<a target=\"_blank\" href=https://colab.research.google.com/notebooks/data_table.ipynb>data table notebook</a>'\n",
              "            + ' to learn more about interactive tables.';\n",
              "          element.innerHTML = '';\n",
              "          dataTable['output_type'] = 'display_data';\n",
              "          await google.colab.output.renderOutput(dataTable, element);\n",
              "          const docLink = document.createElement('div');\n",
              "          docLink.innerHTML = docLinkHtml;\n",
              "          element.appendChild(docLink);\n",
              "        }\n",
              "      </script>\n",
              "    </div>\n",
              "  </div>\n",
              "  "
            ]
          },
          "metadata": {},
          "execution_count": 36
        }
      ]
    },
    {
      "cell_type": "markdown",
      "source": [
        "**6) Creating new column 'Total Words After Transformation'**"
      ],
      "metadata": {
        "id": "av4M2EU6WFlp"
      }
    },
    {
      "cell_type": "code",
      "source": [
        "df['Total Words After Transformation'] = df['tweet'].apply(lambda x: np.log(len(x.split())))"
      ],
      "metadata": {
        "execution": {
          "iopub.status.busy": "2023-05-15T07:43:26.593967Z",
          "iopub.execute_input": "2023-05-15T07:43:26.594321Z",
          "iopub.status.idle": "2023-05-15T07:43:26.769458Z",
          "shell.execute_reply.started": "2023-05-15T07:43:26.594284Z",
          "shell.execute_reply": "2023-05-15T07:43:26.768060Z"
        },
        "trusted": true,
        "id": "MT9x_voqWFlp"
      },
      "execution_count": null,
      "outputs": []
    },
    {
      "cell_type": "code",
      "source": [
        "df.head()"
      ],
      "metadata": {
        "execution": {
          "iopub.status.busy": "2023-05-15T07:43:26.771142Z",
          "iopub.execute_input": "2023-05-15T07:43:26.772097Z",
          "iopub.status.idle": "2023-05-15T07:43:26.787610Z",
          "shell.execute_reply.started": "2023-05-15T07:43:26.772046Z",
          "shell.execute_reply": "2023-05-15T07:43:26.786278Z"
        },
        "trusted": true,
        "colab": {
          "base_uri": "https://localhost:8080/",
          "height": 206
        },
        "id": "SKNDBcZiWFlq",
        "outputId": "42122be5-6e74-4c62-c566-a6e27549cd17"
      },
      "execution_count": null,
      "outputs": [
        {
          "output_type": "execute_result",
          "data": {
            "text/plain": [
              "                                               tweet  label  total words  \\\n",
              "0  sun down technic director  alahli respect us p...      0           11   \n",
              "1  shawki gharib tie enppi  goal return golden squar      0           16   \n",
              "2  egyptian sport news today  wednesday 1252023  ...      0           25   \n",
              "3  main refere committe egyptian footbal associ c...      0           36   \n",
              "4  haji bari  striker futur team  undergo final t...      0           39   \n",
              "\n",
              "   total chars  Total Words After Transformation  \n",
              "0           58                          2.197225  \n",
              "1           67                          2.079442  \n",
              "2          149                          2.890372  \n",
              "3          187                          3.044522  \n",
              "4          196                          3.044522  "
            ],
            "text/html": [
              "\n",
              "  <div id=\"df-6ffc51ce-2b2f-435c-91bb-3e2ed5c7cc01\">\n",
              "    <div class=\"colab-df-container\">\n",
              "      <div>\n",
              "<style scoped>\n",
              "    .dataframe tbody tr th:only-of-type {\n",
              "        vertical-align: middle;\n",
              "    }\n",
              "\n",
              "    .dataframe tbody tr th {\n",
              "        vertical-align: top;\n",
              "    }\n",
              "\n",
              "    .dataframe thead th {\n",
              "        text-align: right;\n",
              "    }\n",
              "</style>\n",
              "<table border=\"1\" class=\"dataframe\">\n",
              "  <thead>\n",
              "    <tr style=\"text-align: right;\">\n",
              "      <th></th>\n",
              "      <th>tweet</th>\n",
              "      <th>label</th>\n",
              "      <th>total words</th>\n",
              "      <th>total chars</th>\n",
              "      <th>Total Words After Transformation</th>\n",
              "    </tr>\n",
              "  </thead>\n",
              "  <tbody>\n",
              "    <tr>\n",
              "      <th>0</th>\n",
              "      <td>sun down technic director  alahli respect us p...</td>\n",
              "      <td>0</td>\n",
              "      <td>11</td>\n",
              "      <td>58</td>\n",
              "      <td>2.197225</td>\n",
              "    </tr>\n",
              "    <tr>\n",
              "      <th>1</th>\n",
              "      <td>shawki gharib tie enppi  goal return golden squar</td>\n",
              "      <td>0</td>\n",
              "      <td>16</td>\n",
              "      <td>67</td>\n",
              "      <td>2.079442</td>\n",
              "    </tr>\n",
              "    <tr>\n",
              "      <th>2</th>\n",
              "      <td>egyptian sport news today  wednesday 1252023  ...</td>\n",
              "      <td>0</td>\n",
              "      <td>25</td>\n",
              "      <td>149</td>\n",
              "      <td>2.890372</td>\n",
              "    </tr>\n",
              "    <tr>\n",
              "      <th>3</th>\n",
              "      <td>main refere committe egyptian footbal associ c...</td>\n",
              "      <td>0</td>\n",
              "      <td>36</td>\n",
              "      <td>187</td>\n",
              "      <td>3.044522</td>\n",
              "    </tr>\n",
              "    <tr>\n",
              "      <th>4</th>\n",
              "      <td>haji bari  striker futur team  undergo final t...</td>\n",
              "      <td>0</td>\n",
              "      <td>39</td>\n",
              "      <td>196</td>\n",
              "      <td>3.044522</td>\n",
              "    </tr>\n",
              "  </tbody>\n",
              "</table>\n",
              "</div>\n",
              "      <button class=\"colab-df-convert\" onclick=\"convertToInteractive('df-6ffc51ce-2b2f-435c-91bb-3e2ed5c7cc01')\"\n",
              "              title=\"Convert this dataframe to an interactive table.\"\n",
              "              style=\"display:none;\">\n",
              "        \n",
              "  <svg xmlns=\"http://www.w3.org/2000/svg\" height=\"24px\"viewBox=\"0 0 24 24\"\n",
              "       width=\"24px\">\n",
              "    <path d=\"M0 0h24v24H0V0z\" fill=\"none\"/>\n",
              "    <path d=\"M18.56 5.44l.94 2.06.94-2.06 2.06-.94-2.06-.94-.94-2.06-.94 2.06-2.06.94zm-11 1L8.5 8.5l.94-2.06 2.06-.94-2.06-.94L8.5 2.5l-.94 2.06-2.06.94zm10 10l.94 2.06.94-2.06 2.06-.94-2.06-.94-.94-2.06-.94 2.06-2.06.94z\"/><path d=\"M17.41 7.96l-1.37-1.37c-.4-.4-.92-.59-1.43-.59-.52 0-1.04.2-1.43.59L10.3 9.45l-7.72 7.72c-.78.78-.78 2.05 0 2.83L4 21.41c.39.39.9.59 1.41.59.51 0 1.02-.2 1.41-.59l7.78-7.78 2.81-2.81c.8-.78.8-2.07 0-2.86zM5.41 20L4 18.59l7.72-7.72 1.47 1.35L5.41 20z\"/>\n",
              "  </svg>\n",
              "      </button>\n",
              "      \n",
              "  <style>\n",
              "    .colab-df-container {\n",
              "      display:flex;\n",
              "      flex-wrap:wrap;\n",
              "      gap: 12px;\n",
              "    }\n",
              "\n",
              "    .colab-df-convert {\n",
              "      background-color: #E8F0FE;\n",
              "      border: none;\n",
              "      border-radius: 50%;\n",
              "      cursor: pointer;\n",
              "      display: none;\n",
              "      fill: #1967D2;\n",
              "      height: 32px;\n",
              "      padding: 0 0 0 0;\n",
              "      width: 32px;\n",
              "    }\n",
              "\n",
              "    .colab-df-convert:hover {\n",
              "      background-color: #E2EBFA;\n",
              "      box-shadow: 0px 1px 2px rgba(60, 64, 67, 0.3), 0px 1px 3px 1px rgba(60, 64, 67, 0.15);\n",
              "      fill: #174EA6;\n",
              "    }\n",
              "\n",
              "    [theme=dark] .colab-df-convert {\n",
              "      background-color: #3B4455;\n",
              "      fill: #D2E3FC;\n",
              "    }\n",
              "\n",
              "    [theme=dark] .colab-df-convert:hover {\n",
              "      background-color: #434B5C;\n",
              "      box-shadow: 0px 1px 3px 1px rgba(0, 0, 0, 0.15);\n",
              "      filter: drop-shadow(0px 1px 2px rgba(0, 0, 0, 0.3));\n",
              "      fill: #FFFFFF;\n",
              "    }\n",
              "  </style>\n",
              "\n",
              "      <script>\n",
              "        const buttonEl =\n",
              "          document.querySelector('#df-6ffc51ce-2b2f-435c-91bb-3e2ed5c7cc01 button.colab-df-convert');\n",
              "        buttonEl.style.display =\n",
              "          google.colab.kernel.accessAllowed ? 'block' : 'none';\n",
              "\n",
              "        async function convertToInteractive(key) {\n",
              "          const element = document.querySelector('#df-6ffc51ce-2b2f-435c-91bb-3e2ed5c7cc01');\n",
              "          const dataTable =\n",
              "            await google.colab.kernel.invokeFunction('convertToInteractive',\n",
              "                                                     [key], {});\n",
              "          if (!dataTable) return;\n",
              "\n",
              "          const docLinkHtml = 'Like what you see? Visit the ' +\n",
              "            '<a target=\"_blank\" href=https://colab.research.google.com/notebooks/data_table.ipynb>data table notebook</a>'\n",
              "            + ' to learn more about interactive tables.';\n",
              "          element.innerHTML = '';\n",
              "          dataTable['output_type'] = 'display_data';\n",
              "          await google.colab.output.renderOutput(dataTable, element);\n",
              "          const docLink = document.createElement('div');\n",
              "          docLink.innerHTML = docLinkHtml;\n",
              "          element.appendChild(docLink);\n",
              "        }\n",
              "      </script>\n",
              "    </div>\n",
              "  </div>\n",
              "  "
            ]
          },
          "metadata": {},
          "execution_count": 38
        }
      ]
    },
    {
      "cell_type": "markdown",
      "source": [
        "# Modeling"
      ],
      "metadata": {
        "id": "soKi7QC1WFly"
      }
    },
    {
      "cell_type": "markdown",
      "source": [
        "**1) Naive Bayes**"
      ],
      "metadata": {
        "id": "UQgCI5uDWFlz"
      }
    },
    {
      "cell_type": "code",
      "source": [
        "X = df[\"tweet\"]\n",
        "y = df['label'].values\n",
        "\n",
        "X_train, X_test, y_train, y_test = train_test_split(X, y, test_size= 0.2, random_state= 42, stratify = y)"
      ],
      "metadata": {
        "execution": {
          "iopub.status.busy": "2023-05-15T07:57:03.321180Z",
          "iopub.execute_input": "2023-05-15T07:57:03.322216Z",
          "iopub.status.idle": "2023-05-15T07:57:03.353314Z",
          "shell.execute_reply.started": "2023-05-15T07:57:03.322165Z",
          "shell.execute_reply": "2023-05-15T07:57:03.352054Z"
        },
        "trusted": true,
        "id": "ceUTy0tLWFl0"
      },
      "execution_count": null,
      "outputs": []
    },
    {
      "cell_type": "code",
      "source": [
        "tfidf = TfidfVectorizer(max_features= 2500, min_df= 2)\n",
        "X_train = tfidf.fit_transform(X_train).toarray()\n",
        "X_test = tfidf.transform(X_test).toarray()"
      ],
      "metadata": {
        "execution": {
          "iopub.status.busy": "2023-05-15T07:57:07.354097Z",
          "iopub.execute_input": "2023-05-15T07:57:07.354503Z",
          "iopub.status.idle": "2023-05-15T07:57:51.701329Z",
          "shell.execute_reply.started": "2023-05-15T07:57:07.354466Z",
          "shell.execute_reply": "2023-05-15T07:57:51.699950Z"
        },
        "trusted": true,
        "id": "UcE5X5PAWFl0"
      },
      "execution_count": null,
      "outputs": []
    },
    {
      "cell_type": "code",
      "source": [
        "X_train"
      ],
      "metadata": {
        "colab": {
          "base_uri": "https://localhost:8080/"
        },
        "id": "XQv8rWeN_Qyt",
        "outputId": "355979f1-1e31-4eab-9f33-19d8deec67b1"
      },
      "execution_count": null,
      "outputs": [
        {
          "output_type": "execute_result",
          "data": {
            "text/plain": [
              "array([[0., 0., 0., ..., 0., 0., 0.],\n",
              "       [0., 0., 0., ..., 0., 0., 0.],\n",
              "       [0., 0., 0., ..., 0., 0., 0.],\n",
              "       ...,\n",
              "       [0., 0., 0., ..., 0., 0., 0.],\n",
              "       [0., 0., 0., ..., 0., 0., 0.],\n",
              "       [0., 0., 0., ..., 0., 0., 0.]])"
            ]
          },
          "metadata": {},
          "execution_count": 41
        }
      ]
    },
    {
      "cell_type": "code",
      "source": [
        "def train_model(model):\n",
        "    model.fit(X_train, y_train)\n",
        "    y_pred = model.predict(X_test)\n",
        "    y_prob = model.predict_proba(X_test)\n",
        "    accuracy = round(accuracy_score(y_test, y_pred), 3)\n",
        "    precision = round(precision_score(y_test, y_pred), 3)\n",
        "    recall = round(recall_score(y_test, y_pred), 3)\n",
        "    f1score = round(f1_score(y_test, y_pred), 3)\n",
        "\n",
        "    print(f'Accuracy of the model: {accuracy}')\n",
        "    print(f'Precision Score of the model: {precision}')\n",
        "    print(f'Recall Score of the model: {recall}')\n",
        "    print(f'f1-score of the model: {f1score}')\n",
        "\n",
        "    sns.set_context('notebook', font_scale= 1.3)\n",
        "    fig, ax = plt.subplots(1, 2, figsize = (25,  8))\n",
        "    ax1 = plot_confusion_matrix(y_test, y_pred, ax= ax[0], cmap= 'YlGnBu')\n",
        "    ax2 = plot_roc(y_test, y_prob, ax= ax[1], plot_macro= False, plot_micro= False, cmap= 'summer')"
      ],
      "metadata": {
        "execution": {
          "iopub.status.busy": "2023-05-15T07:43:47.226163Z",
          "iopub.execute_input": "2023-05-15T07:43:47.227191Z",
          "iopub.status.idle": "2023-05-15T07:43:47.238255Z",
          "shell.execute_reply.started": "2023-05-15T07:43:47.227147Z",
          "shell.execute_reply": "2023-05-15T07:43:47.236717Z"
        },
        "trusted": true,
        "id": "lNTzc8RoWFl1"
      },
      "execution_count": null,
      "outputs": []
    },
    {
      "cell_type": "code",
      "source": [
        "# nb = MultinomialNB()\n",
        "# train_model(nb)"
      ],
      "metadata": {
        "execution": {
          "iopub.status.busy": "2023-05-15T07:57:51.705264Z",
          "iopub.execute_input": "2023-05-15T07:57:51.707231Z",
          "iopub.status.idle": "2023-05-15T07:57:52.851662Z",
          "shell.execute_reply.started": "2023-05-15T07:57:51.707168Z",
          "shell.execute_reply": "2023-05-15T07:57:52.850294Z"
        },
        "trusted": true,
        "id": "Cjdp-BeNWFl1"
      },
      "execution_count": null,
      "outputs": []
    },
    {
      "cell_type": "code",
      "source": [
        "mnb = MultinomialNB()\n",
        "\n",
        "mnb.fit(X_train, y_train)\n",
        "\n",
        "y_pred = mnb.predict(X_test)\n",
        "y_prob = mnb.predict_proba(X_test)\n",
        "accuracy = round(accuracy_score(y_test, y_pred), 3)\n",
        "precision = round(precision_score(y_test, y_pred), 3)\n",
        "recall = round(recall_score(y_test, y_pred), 3)\n",
        "f1score = round(f1_score(y_test, y_pred), 3)\n",
        "\n",
        "print(f'Accuracy of the model: {accuracy}')\n",
        "print(f'Precision Score of the model: {precision}')\n",
        "print(f'Recall Score of the model: {recall}')\n",
        "print(f'f1-score of the model: {f1score}')"
      ],
      "metadata": {
        "colab": {
          "base_uri": "https://localhost:8080/"
        },
        "id": "BSIor5YaMXLe",
        "outputId": "7377dcb1-dabd-48cc-bf8c-273c223c80e9"
      },
      "execution_count": null,
      "outputs": [
        {
          "output_type": "stream",
          "name": "stdout",
          "text": [
            "Accuracy of the model: 0.929\n",
            "Precision Score of the model: 0.908\n",
            "Recall Score of the model: 0.948\n",
            "f1-score of the model: 0.928\n"
          ]
        }
      ]
    },
    {
      "cell_type": "code",
      "source": [
        "mnb = MultinomialNB(alpha=0.001)\n",
        "\n",
        "mnb.fit(X_train, y_train)\n",
        "\n",
        "y_pred = mnb.predict(X_test)\n",
        "y_prob = mnb.predict_proba(X_test)\n",
        "accuracy = round(accuracy_score(y_test, y_pred), 3)\n",
        "precision = round(precision_score(y_test, y_pred), 3)\n",
        "recall = round(recall_score(y_test, y_pred), 3)\n",
        "f1score = round(f1_score(y_test, y_pred), 3)\n",
        "\n",
        "print(f'Accuracy of the model: {accuracy}')\n",
        "print(f'Precision Score of the model: {precision}')\n",
        "print(f'Recall Score of the model: {recall}')\n",
        "print(f'f1-score of the model: {f1score}')"
      ],
      "metadata": {
        "execution": {
          "iopub.status.busy": "2023-05-15T07:58:16.707422Z",
          "iopub.execute_input": "2023-05-15T07:58:16.707866Z",
          "iopub.status.idle": "2023-05-15T07:58:17.026128Z",
          "shell.execute_reply.started": "2023-05-15T07:58:16.707807Z",
          "shell.execute_reply": "2023-05-15T07:58:17.024809Z"
        },
        "trusted": true,
        "colab": {
          "base_uri": "https://localhost:8080/"
        },
        "id": "s4S-eLaOWFl2",
        "outputId": "a249e2e3-ab3e-4676-d8d4-86de4142f7a6"
      },
      "execution_count": null,
      "outputs": [
        {
          "output_type": "stream",
          "name": "stdout",
          "text": [
            "Accuracy of the model: 0.93\n",
            "Precision Score of the model: 0.908\n",
            "Recall Score of the model: 0.949\n",
            "f1-score of the model: 0.928\n"
          ]
        }
      ]
    },
    {
      "cell_type": "code",
      "source": [
        "# bnb = BernoulliNB()\n",
        "# train_model(bnb)"
      ],
      "metadata": {
        "execution": {
          "iopub.status.busy": "2023-05-15T08:09:58.819628Z",
          "iopub.execute_input": "2023-05-15T08:09:58.820873Z",
          "iopub.status.idle": "2023-05-15T08:10:00.941103Z",
          "shell.execute_reply.started": "2023-05-15T08:09:58.820809Z",
          "shell.execute_reply": "2023-05-15T08:10:00.939686Z"
        },
        "trusted": true,
        "id": "NZOZmu6-WFl2"
      },
      "execution_count": null,
      "outputs": []
    },
    {
      "cell_type": "code",
      "source": [
        "bnb = BernoulliNB(alpha=0.001, binarize=None)\n",
        "\n",
        "bnb.fit(X_train, y_train)\n",
        "\n",
        "y_pred = bnb.predict(X_test)\n",
        "y_prob = bnb.predict_proba(X_test)\n",
        "accuracy = round(accuracy_score(y_test, y_pred), 3)\n",
        "precision = round(precision_score(y_test, y_pred), 3)\n",
        "recall = round(recall_score(y_test, y_pred), 3)\n",
        "f1score = round(f1_score(y_test, y_pred), 3)\n",
        "\n",
        "print(f'Accuracy of the model: {accuracy}')\n",
        "print(f'Precision Score of the model: {precision}')\n",
        "print(f'Recall Score of the model: {recall}')\n",
        "print(f'f1-score of the model: {f1score}')\n",
        "# print(classification_report(y_test, y_pred))"
      ],
      "metadata": {
        "colab": {
          "base_uri": "https://localhost:8080/"
        },
        "id": "-uEG34LZMgj7",
        "outputId": "d9dd57b2-a249-417d-9e16-ce995305074d"
      },
      "execution_count": null,
      "outputs": [
        {
          "output_type": "stream",
          "name": "stdout",
          "text": [
            "Accuracy of the model: 0.93\n",
            "Precision Score of the model: 0.905\n",
            "Recall Score of the model: 0.954\n",
            "f1-score of the model: 0.929\n"
          ]
        }
      ]
    },
    {
      "cell_type": "code",
      "source": [
        "bnb = BernoulliNB(alpha=0.001, binarize=None)\n",
        "\n",
        "bnb.fit(X_train, y_train)\n",
        "\n",
        "y_pred = bnb.predict(X_test)\n",
        "y_prob = bnb.predict_proba(X_test)\n",
        "accuracy = round(accuracy_score(y_test, y_pred), 3)\n",
        "precision = round(precision_score(y_test, y_pred), 3)\n",
        "recall = round(recall_score(y_test, y_pred), 3)\n",
        "f1score = round(f1_score(y_test, y_pred), 3)\n",
        "\n",
        "print(f'Accuracy of the model: {accuracy}')\n",
        "print(f'Precision Score of the model: {precision}')\n",
        "print(f'Recall Score of the model: {recall}')\n",
        "print(f'f1-score of the model: {f1score}')\n",
        "# print(classification_report(y_test, y_pred))"
      ],
      "metadata": {
        "execution": {
          "iopub.status.busy": "2023-05-15T08:11:29.440152Z",
          "iopub.execute_input": "2023-05-15T08:11:29.440589Z",
          "iopub.status.idle": "2023-05-15T08:11:29.703769Z",
          "shell.execute_reply.started": "2023-05-15T08:11:29.440548Z",
          "shell.execute_reply": "2023-05-15T08:11:29.701998Z"
        },
        "trusted": true,
        "colab": {
          "base_uri": "https://localhost:8080/"
        },
        "id": "yulRIXcSWFl3",
        "outputId": "e5474bce-601a-48be-bd19-195d9f5020f3"
      },
      "execution_count": null,
      "outputs": [
        {
          "output_type": "stream",
          "name": "stdout",
          "text": [
            "Accuracy of the model: 0.93\n",
            "Precision Score of the model: 0.905\n",
            "Recall Score of the model: 0.954\n",
            "f1-score of the model: 0.929\n"
          ]
        }
      ]
    },
    {
      "cell_type": "code",
      "source": [
        "list_model = ['BNB','BNBS','MNB','MNBS']\n",
        "list_score = [0.927,0.93,0.929,0.93]"
      ],
      "metadata": {
        "id": "Q32KITLCIKDe"
      },
      "execution_count": null,
      "outputs": []
    },
    {
      "cell_type": "code",
      "source": [
        "plt.figure(figsize=(8,8))\n",
        "plt.bar(list_model,list_score)\n",
        "\n",
        "plt.title('Komparasi accuracy pengujian',size=10)\n",
        "plt.ylabel('acc_test',size=10)\n",
        "plt.yticks(size=8)\n",
        "plt.xticks(size=8)\n",
        "\n",
        "for i in range(len(list_model)):\n",
        "  plt.text(i, y[i], list_score[i], ha = 'center')\n",
        "\n",
        "plt.show()"
      ],
      "metadata": {
        "colab": {
          "base_uri": "https://localhost:8080/",
          "height": 695
        },
        "id": "UsKcgyhjIDWa",
        "outputId": "46f982bb-a5ed-4d8b-93a8-e485c2102d2f"
      },
      "execution_count": null,
      "outputs": [
        {
          "output_type": "display_data",
          "data": {
            "text/plain": [
              "<Figure size 800x800 with 1 Axes>"
            ],
            "image/png": "[encoded data removed]"
          },
          "metadata": {}
        }
      ]
    }
  ]
}